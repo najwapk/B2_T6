{
 "cells": [
  {
   "cell_type": "markdown",
   "id": "1b112f62",
   "metadata": {},
   "source": [
    "# E-commerce womens' clothing recommendation"
   ]
  },
  {
   "cell_type": "code",
   "execution_count": 62,
   "id": "d187de28",
   "metadata": {},
   "outputs": [],
   "source": [
    "#import the basic libraries\n",
    "import pandas as pd\n",
    "import numpy as np\n",
    "import seaborn as sns\n",
    "import matplotlib.pyplot as plt"
   ]
  },
  {
   "cell_type": "markdown",
   "id": "fbbc5949",
   "metadata": {},
   "source": [
    "#### Reading the dataset"
   ]
  },
  {
   "cell_type": "code",
   "execution_count": 63,
   "id": "f0ce5626",
   "metadata": {},
   "outputs": [
    {
     "data": {
      "text/html": [
       "<div>\n",
       "<style scoped>\n",
       "    .dataframe tbody tr th:only-of-type {\n",
       "        vertical-align: middle;\n",
       "    }\n",
       "\n",
       "    .dataframe tbody tr th {\n",
       "        vertical-align: top;\n",
       "    }\n",
       "\n",
       "    .dataframe thead th {\n",
       "        text-align: right;\n",
       "    }\n",
       "</style>\n",
       "<table border=\"1\" class=\"dataframe\">\n",
       "  <thead>\n",
       "    <tr style=\"text-align: right;\">\n",
       "      <th></th>\n",
       "      <th>Sl_No</th>\n",
       "      <th>Clothing_ID</th>\n",
       "      <th>Age</th>\n",
       "      <th>Title</th>\n",
       "      <th>Review_Text</th>\n",
       "      <th>Rating</th>\n",
       "      <th>Recommend</th>\n",
       "      <th>Positive_Feedback_Count</th>\n",
       "      <th>Division_Name</th>\n",
       "      <th>Department_Name</th>\n",
       "      <th>Class_Name</th>\n",
       "    </tr>\n",
       "  </thead>\n",
       "  <tbody>\n",
       "    <tr>\n",
       "      <th>0</th>\n",
       "      <td>0</td>\n",
       "      <td>767</td>\n",
       "      <td>33.0</td>\n",
       "      <td>NaN</td>\n",
       "      <td>Absolutely wonderful - silky and sexy and comf...</td>\n",
       "      <td>4.0</td>\n",
       "      <td>1</td>\n",
       "      <td>0</td>\n",
       "      <td>Initmates</td>\n",
       "      <td>Intimate</td>\n",
       "      <td>Intimates</td>\n",
       "    </tr>\n",
       "    <tr>\n",
       "      <th>1</th>\n",
       "      <td>1</td>\n",
       "      <td>1080</td>\n",
       "      <td>34.0</td>\n",
       "      <td>NaN</td>\n",
       "      <td>Love this dress!  it's sooo pretty.  i happene...</td>\n",
       "      <td>5.0</td>\n",
       "      <td>1</td>\n",
       "      <td>4</td>\n",
       "      <td>General</td>\n",
       "      <td>Dresses</td>\n",
       "      <td>Dresses</td>\n",
       "    </tr>\n",
       "    <tr>\n",
       "      <th>2</th>\n",
       "      <td>2</td>\n",
       "      <td>1077</td>\n",
       "      <td>60.0</td>\n",
       "      <td>Some major design flaws</td>\n",
       "      <td>I had such high hopes for this dress and reall...</td>\n",
       "      <td>3.0</td>\n",
       "      <td>0</td>\n",
       "      <td>0</td>\n",
       "      <td>General</td>\n",
       "      <td>Dresses</td>\n",
       "      <td>Dresses</td>\n",
       "    </tr>\n",
       "    <tr>\n",
       "      <th>3</th>\n",
       "      <td>3</td>\n",
       "      <td>1049</td>\n",
       "      <td>50.0</td>\n",
       "      <td>My favorite buy!</td>\n",
       "      <td>I love, love, love this jumpsuit. it's fun, fl...</td>\n",
       "      <td>5.0</td>\n",
       "      <td>1</td>\n",
       "      <td>0</td>\n",
       "      <td>General Petite</td>\n",
       "      <td>Bottoms</td>\n",
       "      <td>Pants</td>\n",
       "    </tr>\n",
       "    <tr>\n",
       "      <th>4</th>\n",
       "      <td>4</td>\n",
       "      <td>847</td>\n",
       "      <td>47.0</td>\n",
       "      <td>Flattering shirt</td>\n",
       "      <td>This shirt is very flattering to all due to th...</td>\n",
       "      <td>5.0</td>\n",
       "      <td>1</td>\n",
       "      <td>6</td>\n",
       "      <td>General</td>\n",
       "      <td>Tops</td>\n",
       "      <td>Blouses</td>\n",
       "    </tr>\n",
       "  </tbody>\n",
       "</table>\n",
       "</div>"
      ],
      "text/plain": [
       "   Sl_No  Clothing_ID   Age                    Title  \\\n",
       "0      0          767  33.0                      NaN   \n",
       "1      1         1080  34.0                      NaN   \n",
       "2      2         1077  60.0  Some major design flaws   \n",
       "3      3         1049  50.0         My favorite buy!   \n",
       "4      4          847  47.0         Flattering shirt   \n",
       "\n",
       "                                         Review_Text  Rating  Recommend  \\\n",
       "0  Absolutely wonderful - silky and sexy and comf...     4.0          1   \n",
       "1  Love this dress!  it's sooo pretty.  i happene...     5.0          1   \n",
       "2  I had such high hopes for this dress and reall...     3.0          0   \n",
       "3  I love, love, love this jumpsuit. it's fun, fl...     5.0          1   \n",
       "4  This shirt is very flattering to all due to th...     5.0          1   \n",
       "\n",
       "   Positive_Feedback_Count   Division_Name Department_Name Class_Name  \n",
       "0                        0       Initmates        Intimate  Intimates  \n",
       "1                        4         General         Dresses    Dresses  \n",
       "2                        0         General         Dresses    Dresses  \n",
       "3                        0  General Petite         Bottoms      Pants  \n",
       "4                        6         General            Tops    Blouses  "
      ]
     },
     "execution_count": 63,
     "metadata": {},
     "output_type": "execute_result"
    }
   ],
   "source": [
    "df=pd.read_csv('ecommerce_womens_clothing.csv')\n",
    "df.head()"
   ]
  },
  {
   "cell_type": "markdown",
   "id": "2931278b",
   "metadata": {},
   "source": [
    "#### Determining dimensions of dataset"
   ]
  },
  {
   "cell_type": "code",
   "execution_count": 64,
   "id": "80d9ba15",
   "metadata": {},
   "outputs": [
    {
     "data": {
      "text/plain": [
       "(23486, 11)"
      ]
     },
     "execution_count": 64,
     "metadata": {},
     "output_type": "execute_result"
    }
   ],
   "source": [
    "df.shape"
   ]
  },
  {
   "cell_type": "markdown",
   "id": "66ca563e",
   "metadata": {},
   "source": [
    "The dataset consists of 23486 rows and 11 columns"
   ]
  },
  {
   "cell_type": "markdown",
   "id": "85a36974",
   "metadata": {},
   "source": [
    "#### Concise summary of the dataset including columns, datatypes and null counts"
   ]
  },
  {
   "cell_type": "code",
   "execution_count": 65,
   "id": "5583b122",
   "metadata": {},
   "outputs": [
    {
     "name": "stdout",
     "output_type": "stream",
     "text": [
      "<class 'pandas.core.frame.DataFrame'>\n",
      "RangeIndex: 23486 entries, 0 to 23485\n",
      "Data columns (total 11 columns):\n",
      " #   Column                   Non-Null Count  Dtype  \n",
      "---  ------                   --------------  -----  \n",
      " 0   Sl_No                    23486 non-null  int64  \n",
      " 1   Clothing_ID              23486 non-null  int64  \n",
      " 2   Age                      23480 non-null  float64\n",
      " 3   Title                    19676 non-null  object \n",
      " 4   Review_Text              22641 non-null  object \n",
      " 5   Rating                   23479 non-null  float64\n",
      " 6   Recommend                23486 non-null  int64  \n",
      " 7   Positive_Feedback_Count  23486 non-null  int64  \n",
      " 8   Division_Name            23472 non-null  object \n",
      " 9   Department_Name          23472 non-null  object \n",
      " 10  Class_Name               23472 non-null  object \n",
      "dtypes: float64(2), int64(4), object(5)\n",
      "memory usage: 2.0+ MB\n"
     ]
    }
   ],
   "source": [
    "df.info()"
   ]
  },
  {
   "cell_type": "markdown",
   "id": "12ce4004",
   "metadata": {},
   "source": [
    "### Pre-processing"
   ]
  },
  {
   "cell_type": "markdown",
   "id": "235f4bb4",
   "metadata": {},
   "source": [
    "#### Missing values handling"
   ]
  },
  {
   "cell_type": "code",
   "execution_count": 66,
   "id": "76c9ed5a",
   "metadata": {},
   "outputs": [
    {
     "data": {
      "text/plain": [
       "Sl_No                         0\n",
       "Clothing_ID                   0\n",
       "Age                           6\n",
       "Title                      3810\n",
       "Review_Text                 845\n",
       "Rating                        7\n",
       "Recommend                     0\n",
       "Positive_Feedback_Count       0\n",
       "Division_Name                14\n",
       "Department_Name              14\n",
       "Class_Name                   14\n",
       "dtype: int64"
      ]
     },
     "execution_count": 66,
     "metadata": {},
     "output_type": "execute_result"
    }
   ],
   "source": [
    "#missing values check for each column\n",
    "df.isna().sum()"
   ]
  },
  {
   "cell_type": "markdown",
   "id": "cdfbf63a",
   "metadata": {},
   "source": [
    "Age and Rating are numerical columns with missing values, remaining missing values are for categorical columns"
   ]
  },
  {
   "cell_type": "code",
   "execution_count": 67,
   "id": "c304f7ed",
   "metadata": {},
   "outputs": [
    {
     "data": {
      "text/plain": [
       "Text(0.5, 1.0, 'Distribution plot for Age')"
      ]
     },
     "execution_count": 67,
     "metadata": {},
     "output_type": "execute_result"
    },
    {
     "data": {
      "image/png": "[encoded data removed]",
      "text/plain": [
       "<Figure size 360x360 with 1 Axes>"
      ]
     },
     "metadata": {
      "needs_background": "light"
     },
     "output_type": "display_data"
    }
   ],
   "source": [
    "#checking age distribution\n",
    "sns.displot(data=df, x='Age', kde=True)\n",
    "plt.title(\"Distribution plot for Age\",fontsize=12)"
   ]
  },
  {
   "cell_type": "markdown",
   "id": "08121909",
   "metadata": {},
   "source": [
    "As per above plot age is slighlty right skewed therefore, missing values can be filled with median of age"
   ]
  },
  {
   "cell_type": "code",
   "execution_count": 68,
   "id": "9b308a0f",
   "metadata": {},
   "outputs": [
    {
     "data": {
      "text/plain": [
       "Sl_No                         0\n",
       "Clothing_ID                   0\n",
       "Age                           0\n",
       "Title                      3810\n",
       "Review_Text                 845\n",
       "Rating                        7\n",
       "Recommend                     0\n",
       "Positive_Feedback_Count       0\n",
       "Division_Name                14\n",
       "Department_Name              14\n",
       "Class_Name                   14\n",
       "dtype: int64"
      ]
     },
     "execution_count": 68,
     "metadata": {},
     "output_type": "execute_result"
    }
   ],
   "source": [
    "df.fillna({'Age':df['Age'].median()},inplace=True)\n",
    "df.isna().sum()"
   ]
  },
  {
   "cell_type": "code",
   "execution_count": 69,
   "id": "928fee1f",
   "metadata": {},
   "outputs": [
    {
     "data": {
      "text/plain": [
       "<seaborn.axisgrid.FacetGrid at 0x15d12984040>"
      ]
     },
     "execution_count": 69,
     "metadata": {},
     "output_type": "execute_result"
    },
    {
     "data": {
      "image/png": "[encoded data removed]",
      "text/plain": [
       "<Figure size 360x360 with 1 Axes>"
      ]
     },
     "metadata": {
      "needs_background": "light"
     },
     "output_type": "display_data"
    }
   ],
   "source": [
    "#checking rating distribution\n",
    "sns.catplot(x='Rating', kind=\"count\", data=df).set(title='Rating counts')"
   ]
  },
  {
   "cell_type": "code",
   "execution_count": 70,
   "id": "48fe8368",
   "metadata": {},
   "outputs": [
    {
     "data": {
      "text/plain": [
       "<seaborn.axisgrid.FacetGrid at 0x15d23f22940>"
      ]
     },
     "execution_count": 70,
     "metadata": {},
     "output_type": "execute_result"
    },
    {
     "data": {
      "image/png": "[encoded data removed]",
      "text/plain": [
       "<Figure size 430.125x360 with 1 Axes>"
      ]
     },
     "metadata": {
      "needs_background": "light"
     },
     "output_type": "display_data"
    }
   ],
   "source": [
    "#checking ratings based on recommendation\n",
    "sns.catplot(x='Rating', kind=\"count\", hue='Recommend',data=df).set(title='Rating counts')"
   ]
  },
  {
   "cell_type": "code",
   "execution_count": 71,
   "id": "6c89f48b",
   "metadata": {},
   "outputs": [
    {
     "data": {
      "text/plain": [
       "Recommend  Rating\n",
       "0          1.0         826\n",
       "           2.0        1471\n",
       "           3.0        1681\n",
       "           4.0         167\n",
       "           5.0          25\n",
       "1          1.0          16\n",
       "           2.0          94\n",
       "           3.0        1189\n",
       "           4.0        4907\n",
       "           5.0       13103\n",
       "dtype: int64"
      ]
     },
     "execution_count": 71,
     "metadata": {},
     "output_type": "execute_result"
    }
   ],
   "source": [
    "df.groupby(['Recommend','Rating']).size()"
   ]
  },
  {
   "cell_type": "markdown",
   "id": "bb2026fc",
   "metadata": {},
   "source": [
    "As per the above plot and data rating has highest frequency for 5 in recommended category(1) and 3 in not recommended category(0)"
   ]
  },
  {
   "cell_type": "code",
   "execution_count": 72,
   "id": "e9d65314",
   "metadata": {},
   "outputs": [],
   "source": [
    "#filling missing rating values based on mode(5,3) of corresponding recommend column value(1/0)\n",
    "df.loc[df['Recommend']==0, 'Rating'] = df.loc[df['Recommend']==0, 'Rating'].fillna(3)\n",
    "df.loc[df['Recommend']==1, 'Rating'] = df.loc[df['Recommend']==1, 'Rating'].fillna(5)"
   ]
  },
  {
   "cell_type": "code",
   "execution_count": 73,
   "id": "d98dda76",
   "metadata": {},
   "outputs": [
    {
     "data": {
      "text/plain": [
       "Sl_No                         0\n",
       "Clothing_ID                   0\n",
       "Age                           0\n",
       "Title                      3810\n",
       "Review_Text                 845\n",
       "Rating                        0\n",
       "Recommend                     0\n",
       "Positive_Feedback_Count       0\n",
       "Division_Name                14\n",
       "Department_Name              14\n",
       "Class_Name                   14\n",
       "dtype: int64"
      ]
     },
     "execution_count": 73,
     "metadata": {},
     "output_type": "execute_result"
    }
   ],
   "source": [
    "df.isna().sum()"
   ]
  },
  {
   "cell_type": "code",
   "execution_count": 74,
   "id": "79f5630c",
   "metadata": {},
   "outputs": [
    {
     "data": {
      "text/html": [
       "<div>\n",
       "<style scoped>\n",
       "    .dataframe tbody tr th:only-of-type {\n",
       "        vertical-align: middle;\n",
       "    }\n",
       "\n",
       "    .dataframe tbody tr th {\n",
       "        vertical-align: top;\n",
       "    }\n",
       "\n",
       "    .dataframe thead th {\n",
       "        text-align: right;\n",
       "    }\n",
       "</style>\n",
       "<table border=\"1\" class=\"dataframe\">\n",
       "  <thead>\n",
       "    <tr style=\"text-align: right;\">\n",
       "      <th></th>\n",
       "      <th>Title</th>\n",
       "      <th>Review_Text</th>\n",
       "      <th>Rating</th>\n",
       "    </tr>\n",
       "  </thead>\n",
       "  <tbody>\n",
       "    <tr>\n",
       "      <th>23476</th>\n",
       "      <td>Cheeky!</td>\n",
       "      <td>These bottoms are very cute but defiantly chee...</td>\n",
       "      <td>4.0</td>\n",
       "    </tr>\n",
       "    <tr>\n",
       "      <th>23477</th>\n",
       "      <td>Entrancing</td>\n",
       "      <td>I'm so impressed with the beautiful color comb...</td>\n",
       "      <td>4.0</td>\n",
       "    </tr>\n",
       "    <tr>\n",
       "      <th>23478</th>\n",
       "      <td>Unflattering</td>\n",
       "      <td>I was surprised at the positive reviews for th...</td>\n",
       "      <td>1.0</td>\n",
       "    </tr>\n",
       "    <tr>\n",
       "      <th>23479</th>\n",
       "      <td>What a fun piece!</td>\n",
       "      <td>So i wasn't sure about ordering this skirt bec...</td>\n",
       "      <td>5.0</td>\n",
       "    </tr>\n",
       "    <tr>\n",
       "      <th>23480</th>\n",
       "      <td>NaN</td>\n",
       "      <td>NaN</td>\n",
       "      <td>5.0</td>\n",
       "    </tr>\n",
       "    <tr>\n",
       "      <th>23481</th>\n",
       "      <td>Great dress for many occasions</td>\n",
       "      <td>I was very happy to snag this dress at such a ...</td>\n",
       "      <td>5.0</td>\n",
       "    </tr>\n",
       "    <tr>\n",
       "      <th>23482</th>\n",
       "      <td>Wish it was made of cotton</td>\n",
       "      <td>It reminds me of maternity clothes. soft, stre...</td>\n",
       "      <td>3.0</td>\n",
       "    </tr>\n",
       "    <tr>\n",
       "      <th>23483</th>\n",
       "      <td>Cute, but see through</td>\n",
       "      <td>This fit well, but the top was very see throug...</td>\n",
       "      <td>3.0</td>\n",
       "    </tr>\n",
       "    <tr>\n",
       "      <th>23484</th>\n",
       "      <td>Very cute dress, perfect for summer parties an...</td>\n",
       "      <td>I bought this dress for a wedding i have this ...</td>\n",
       "      <td>3.0</td>\n",
       "    </tr>\n",
       "    <tr>\n",
       "      <th>23485</th>\n",
       "      <td>Please make more like this one!</td>\n",
       "      <td>This dress in a lovely platinum is feminine an...</td>\n",
       "      <td>5.0</td>\n",
       "    </tr>\n",
       "  </tbody>\n",
       "</table>\n",
       "</div>"
      ],
      "text/plain": [
       "                                                   Title  \\\n",
       "23476                                            Cheeky!   \n",
       "23477                                         Entrancing   \n",
       "23478                                       Unflattering   \n",
       "23479                                  What a fun piece!   \n",
       "23480                                                NaN   \n",
       "23481                     Great dress for many occasions   \n",
       "23482                         Wish it was made of cotton   \n",
       "23483                              Cute, but see through   \n",
       "23484  Very cute dress, perfect for summer parties an...   \n",
       "23485                    Please make more like this one!   \n",
       "\n",
       "                                             Review_Text  Rating  \n",
       "23476  These bottoms are very cute but defiantly chee...     4.0  \n",
       "23477  I'm so impressed with the beautiful color comb...     4.0  \n",
       "23478  I was surprised at the positive reviews for th...     1.0  \n",
       "23479  So i wasn't sure about ordering this skirt bec...     5.0  \n",
       "23480                                                NaN     5.0  \n",
       "23481  I was very happy to snag this dress at such a ...     5.0  \n",
       "23482  It reminds me of maternity clothes. soft, stre...     3.0  \n",
       "23483  This fit well, but the top was very see throug...     3.0  \n",
       "23484  I bought this dress for a wedding i have this ...     3.0  \n",
       "23485  This dress in a lovely platinum is feminine an...     5.0  "
      ]
     },
     "execution_count": 74,
     "metadata": {},
     "output_type": "execute_result"
    }
   ],
   "source": [
    "df[['Title','Review_Text','Rating']].tail(10)"
   ]
  },
  {
   "cell_type": "markdown",
   "id": "8006efde",
   "metadata": {},
   "source": [
    "Title and Review_Text are descriptions conveying like or dislike for the product which is essentially captured in Rating. Therefore to avoid redundancy, columns Title and Review_Text can be dropped."
   ]
  },
  {
   "cell_type": "code",
   "execution_count": 75,
   "id": "d691945a",
   "metadata": {},
   "outputs": [
    {
     "data": {
      "text/plain": [
       "Sl_No                       0\n",
       "Clothing_ID                 0\n",
       "Age                         0\n",
       "Rating                      0\n",
       "Recommend                   0\n",
       "Positive_Feedback_Count     0\n",
       "Division_Name              14\n",
       "Department_Name            14\n",
       "Class_Name                 14\n",
       "dtype: int64"
      ]
     },
     "execution_count": 75,
     "metadata": {},
     "output_type": "execute_result"
    }
   ],
   "source": [
    "df.drop(axis=1,columns=['Title','Review_Text'],inplace=True)\n",
    "df.isna().sum()"
   ]
  },
  {
   "cell_type": "code",
   "execution_count": 76,
   "id": "2e4e3df0",
   "metadata": {},
   "outputs": [
    {
     "data": {
      "text/html": [
       "<div>\n",
       "<style scoped>\n",
       "    .dataframe tbody tr th:only-of-type {\n",
       "        vertical-align: middle;\n",
       "    }\n",
       "\n",
       "    .dataframe tbody tr th {\n",
       "        vertical-align: top;\n",
       "    }\n",
       "\n",
       "    .dataframe thead th {\n",
       "        text-align: right;\n",
       "    }\n",
       "</style>\n",
       "<table border=\"1\" class=\"dataframe\">\n",
       "  <thead>\n",
       "    <tr style=\"text-align: right;\">\n",
       "      <th></th>\n",
       "      <th>Sl_No</th>\n",
       "      <th>Clothing_ID</th>\n",
       "      <th>Age</th>\n",
       "      <th>Rating</th>\n",
       "      <th>Recommend</th>\n",
       "      <th>Positive_Feedback_Count</th>\n",
       "      <th>Division_Name</th>\n",
       "      <th>Department_Name</th>\n",
       "      <th>Class_Name</th>\n",
       "    </tr>\n",
       "  </thead>\n",
       "  <tbody>\n",
       "    <tr>\n",
       "      <th>9444</th>\n",
       "      <td>9444</td>\n",
       "      <td>72</td>\n",
       "      <td>25.0</td>\n",
       "      <td>5.0</td>\n",
       "      <td>1</td>\n",
       "      <td>0</td>\n",
       "      <td>NaN</td>\n",
       "      <td>NaN</td>\n",
       "      <td>NaN</td>\n",
       "    </tr>\n",
       "    <tr>\n",
       "      <th>13767</th>\n",
       "      <td>13767</td>\n",
       "      <td>492</td>\n",
       "      <td>23.0</td>\n",
       "      <td>5.0</td>\n",
       "      <td>1</td>\n",
       "      <td>1</td>\n",
       "      <td>NaN</td>\n",
       "      <td>NaN</td>\n",
       "      <td>NaN</td>\n",
       "    </tr>\n",
       "    <tr>\n",
       "      <th>13768</th>\n",
       "      <td>13768</td>\n",
       "      <td>492</td>\n",
       "      <td>49.0</td>\n",
       "      <td>5.0</td>\n",
       "      <td>1</td>\n",
       "      <td>0</td>\n",
       "      <td>NaN</td>\n",
       "      <td>NaN</td>\n",
       "      <td>NaN</td>\n",
       "    </tr>\n",
       "    <tr>\n",
       "      <th>13787</th>\n",
       "      <td>13787</td>\n",
       "      <td>492</td>\n",
       "      <td>48.0</td>\n",
       "      <td>5.0</td>\n",
       "      <td>1</td>\n",
       "      <td>0</td>\n",
       "      <td>NaN</td>\n",
       "      <td>NaN</td>\n",
       "      <td>NaN</td>\n",
       "    </tr>\n",
       "    <tr>\n",
       "      <th>16216</th>\n",
       "      <td>16216</td>\n",
       "      <td>152</td>\n",
       "      <td>36.0</td>\n",
       "      <td>5.0</td>\n",
       "      <td>1</td>\n",
       "      <td>0</td>\n",
       "      <td>NaN</td>\n",
       "      <td>NaN</td>\n",
       "      <td>NaN</td>\n",
       "    </tr>\n",
       "    <tr>\n",
       "      <th>16221</th>\n",
       "      <td>16221</td>\n",
       "      <td>152</td>\n",
       "      <td>37.0</td>\n",
       "      <td>5.0</td>\n",
       "      <td>1</td>\n",
       "      <td>0</td>\n",
       "      <td>NaN</td>\n",
       "      <td>NaN</td>\n",
       "      <td>NaN</td>\n",
       "    </tr>\n",
       "    <tr>\n",
       "      <th>16223</th>\n",
       "      <td>16223</td>\n",
       "      <td>152</td>\n",
       "      <td>39.0</td>\n",
       "      <td>5.0</td>\n",
       "      <td>1</td>\n",
       "      <td>0</td>\n",
       "      <td>NaN</td>\n",
       "      <td>NaN</td>\n",
       "      <td>NaN</td>\n",
       "    </tr>\n",
       "    <tr>\n",
       "      <th>18626</th>\n",
       "      <td>18626</td>\n",
       "      <td>184</td>\n",
       "      <td>34.0</td>\n",
       "      <td>5.0</td>\n",
       "      <td>1</td>\n",
       "      <td>5</td>\n",
       "      <td>NaN</td>\n",
       "      <td>NaN</td>\n",
       "      <td>NaN</td>\n",
       "    </tr>\n",
       "    <tr>\n",
       "      <th>18671</th>\n",
       "      <td>18671</td>\n",
       "      <td>184</td>\n",
       "      <td>54.0</td>\n",
       "      <td>5.0</td>\n",
       "      <td>1</td>\n",
       "      <td>0</td>\n",
       "      <td>NaN</td>\n",
       "      <td>NaN</td>\n",
       "      <td>NaN</td>\n",
       "    </tr>\n",
       "    <tr>\n",
       "      <th>20088</th>\n",
       "      <td>20088</td>\n",
       "      <td>772</td>\n",
       "      <td>50.0</td>\n",
       "      <td>5.0</td>\n",
       "      <td>1</td>\n",
       "      <td>0</td>\n",
       "      <td>NaN</td>\n",
       "      <td>NaN</td>\n",
       "      <td>NaN</td>\n",
       "    </tr>\n",
       "    <tr>\n",
       "      <th>21532</th>\n",
       "      <td>21532</td>\n",
       "      <td>665</td>\n",
       "      <td>43.0</td>\n",
       "      <td>5.0</td>\n",
       "      <td>1</td>\n",
       "      <td>0</td>\n",
       "      <td>NaN</td>\n",
       "      <td>NaN</td>\n",
       "      <td>NaN</td>\n",
       "    </tr>\n",
       "    <tr>\n",
       "      <th>22997</th>\n",
       "      <td>22997</td>\n",
       "      <td>136</td>\n",
       "      <td>47.0</td>\n",
       "      <td>5.0</td>\n",
       "      <td>1</td>\n",
       "      <td>1</td>\n",
       "      <td>NaN</td>\n",
       "      <td>NaN</td>\n",
       "      <td>NaN</td>\n",
       "    </tr>\n",
       "    <tr>\n",
       "      <th>23006</th>\n",
       "      <td>23006</td>\n",
       "      <td>136</td>\n",
       "      <td>33.0</td>\n",
       "      <td>5.0</td>\n",
       "      <td>1</td>\n",
       "      <td>0</td>\n",
       "      <td>NaN</td>\n",
       "      <td>NaN</td>\n",
       "      <td>NaN</td>\n",
       "    </tr>\n",
       "    <tr>\n",
       "      <th>23011</th>\n",
       "      <td>23011</td>\n",
       "      <td>136</td>\n",
       "      <td>36.0</td>\n",
       "      <td>5.0</td>\n",
       "      <td>1</td>\n",
       "      <td>0</td>\n",
       "      <td>NaN</td>\n",
       "      <td>NaN</td>\n",
       "      <td>NaN</td>\n",
       "    </tr>\n",
       "  </tbody>\n",
       "</table>\n",
       "</div>"
      ],
      "text/plain": [
       "       Sl_No  Clothing_ID   Age  Rating  Recommend  Positive_Feedback_Count  \\\n",
       "9444    9444           72  25.0     5.0          1                        0   \n",
       "13767  13767          492  23.0     5.0          1                        1   \n",
       "13768  13768          492  49.0     5.0          1                        0   \n",
       "13787  13787          492  48.0     5.0          1                        0   \n",
       "16216  16216          152  36.0     5.0          1                        0   \n",
       "16221  16221          152  37.0     5.0          1                        0   \n",
       "16223  16223          152  39.0     5.0          1                        0   \n",
       "18626  18626          184  34.0     5.0          1                        5   \n",
       "18671  18671          184  54.0     5.0          1                        0   \n",
       "20088  20088          772  50.0     5.0          1                        0   \n",
       "21532  21532          665  43.0     5.0          1                        0   \n",
       "22997  22997          136  47.0     5.0          1                        1   \n",
       "23006  23006          136  33.0     5.0          1                        0   \n",
       "23011  23011          136  36.0     5.0          1                        0   \n",
       "\n",
       "      Division_Name Department_Name Class_Name  \n",
       "9444            NaN             NaN        NaN  \n",
       "13767           NaN             NaN        NaN  \n",
       "13768           NaN             NaN        NaN  \n",
       "13787           NaN             NaN        NaN  \n",
       "16216           NaN             NaN        NaN  \n",
       "16221           NaN             NaN        NaN  \n",
       "16223           NaN             NaN        NaN  \n",
       "18626           NaN             NaN        NaN  \n",
       "18671           NaN             NaN        NaN  \n",
       "20088           NaN             NaN        NaN  \n",
       "21532           NaN             NaN        NaN  \n",
       "22997           NaN             NaN        NaN  \n",
       "23006           NaN             NaN        NaN  \n",
       "23011           NaN             NaN        NaN  "
      ]
     },
     "execution_count": 76,
     "metadata": {},
     "output_type": "execute_result"
    }
   ],
   "source": [
    "df.loc[((df['Division_Name'].isna()) | (df['Department_Name'].isna()) | (df['Class_Name'].isna()))]"
   ]
  },
  {
   "cell_type": "markdown",
   "id": "18894c9c",
   "metadata": {},
   "source": [
    "The 14 missing values for Division_Name, Department_Name and Class_Name are in same rows."
   ]
  },
  {
   "cell_type": "code",
   "execution_count": 77,
   "id": "4790e8e5",
   "metadata": {},
   "outputs": [
    {
     "data": {
      "text/plain": [
       "0.059609980413863575"
      ]
     },
     "execution_count": 77,
     "metadata": {},
     "output_type": "execute_result"
    }
   ],
   "source": [
    "#percentage of dataset with all 3 columns Division_Name, Department_Name and Class_Name having null values\n",
    "((df['Class_Name'].isna().sum())/df.shape[0])*100 "
   ]
  },
  {
   "cell_type": "markdown",
   "id": "696f5567",
   "metadata": {},
   "source": [
    "As only 0.059% of data is having 3 null values in rows we can drop the corresponding rows"
   ]
  },
  {
   "cell_type": "code",
   "execution_count": 78,
   "id": "0b3040a4",
   "metadata": {},
   "outputs": [
    {
     "data": {
      "text/plain": [
       "Sl_No                      0\n",
       "Clothing_ID                0\n",
       "Age                        0\n",
       "Rating                     0\n",
       "Recommend                  0\n",
       "Positive_Feedback_Count    0\n",
       "Division_Name              0\n",
       "Department_Name            0\n",
       "Class_Name                 0\n",
       "dtype: int64"
      ]
     },
     "execution_count": 78,
     "metadata": {},
     "output_type": "execute_result"
    }
   ],
   "source": [
    "#remving the rows with 3 NaN values\n",
    "df.drop(df[(df['Division_Name'].isna()) & (df['Department_Name'].isna()) & (df['Class_Name'].isna())].index, inplace=True)\n",
    "df.isna().sum()"
   ]
  },
  {
   "cell_type": "markdown",
   "id": "749a9530",
   "metadata": {},
   "source": [
    "#### Outlier detection and handling"
   ]
  },
  {
   "cell_type": "code",
   "execution_count": 79,
   "id": "68d99cf9",
   "metadata": {},
   "outputs": [
    {
     "data": {
      "text/html": [
       "<div>\n",
       "<style scoped>\n",
       "    .dataframe tbody tr th:only-of-type {\n",
       "        vertical-align: middle;\n",
       "    }\n",
       "\n",
       "    .dataframe tbody tr th {\n",
       "        vertical-align: top;\n",
       "    }\n",
       "\n",
       "    .dataframe thead th {\n",
       "        text-align: right;\n",
       "    }\n",
       "</style>\n",
       "<table border=\"1\" class=\"dataframe\">\n",
       "  <thead>\n",
       "    <tr style=\"text-align: right;\">\n",
       "      <th></th>\n",
       "      <th>Sl_No</th>\n",
       "      <th>Clothing_ID</th>\n",
       "      <th>Age</th>\n",
       "      <th>Rating</th>\n",
       "      <th>Recommend</th>\n",
       "      <th>Positive_Feedback_Count</th>\n",
       "    </tr>\n",
       "  </thead>\n",
       "  <tbody>\n",
       "    <tr>\n",
       "      <th>count</th>\n",
       "      <td>23472.000000</td>\n",
       "      <td>23472.000000</td>\n",
       "      <td>23472.000000</td>\n",
       "      <td>23472.000000</td>\n",
       "      <td>23472.000000</td>\n",
       "      <td>23472.000000</td>\n",
       "    </tr>\n",
       "    <tr>\n",
       "      <th>mean</th>\n",
       "      <td>11738.965491</td>\n",
       "      <td>918.486665</td>\n",
       "      <td>43.200494</td>\n",
       "      <td>4.195595</td>\n",
       "      <td>0.822256</td>\n",
       "      <td>2.537151</td>\n",
       "    </tr>\n",
       "    <tr>\n",
       "      <th>std</th>\n",
       "      <td>6779.729976</td>\n",
       "      <td>202.727678</td>\n",
       "      <td>12.280016</td>\n",
       "      <td>1.110238</td>\n",
       "      <td>0.382305</td>\n",
       "      <td>5.703597</td>\n",
       "    </tr>\n",
       "    <tr>\n",
       "      <th>min</th>\n",
       "      <td>0.000000</td>\n",
       "      <td>0.000000</td>\n",
       "      <td>18.000000</td>\n",
       "      <td>1.000000</td>\n",
       "      <td>0.000000</td>\n",
       "      <td>0.000000</td>\n",
       "    </tr>\n",
       "    <tr>\n",
       "      <th>25%</th>\n",
       "      <td>5867.750000</td>\n",
       "      <td>861.000000</td>\n",
       "      <td>34.000000</td>\n",
       "      <td>4.000000</td>\n",
       "      <td>1.000000</td>\n",
       "      <td>0.000000</td>\n",
       "    </tr>\n",
       "    <tr>\n",
       "      <th>50%</th>\n",
       "      <td>11736.500000</td>\n",
       "      <td>936.000000</td>\n",
       "      <td>41.000000</td>\n",
       "      <td>5.000000</td>\n",
       "      <td>1.000000</td>\n",
       "      <td>1.000000</td>\n",
       "    </tr>\n",
       "    <tr>\n",
       "      <th>75%</th>\n",
       "      <td>17610.250000</td>\n",
       "      <td>1078.000000</td>\n",
       "      <td>52.000000</td>\n",
       "      <td>5.000000</td>\n",
       "      <td>1.000000</td>\n",
       "      <td>3.000000</td>\n",
       "    </tr>\n",
       "    <tr>\n",
       "      <th>max</th>\n",
       "      <td>23485.000000</td>\n",
       "      <td>1205.000000</td>\n",
       "      <td>99.000000</td>\n",
       "      <td>5.000000</td>\n",
       "      <td>1.000000</td>\n",
       "      <td>122.000000</td>\n",
       "    </tr>\n",
       "  </tbody>\n",
       "</table>\n",
       "</div>"
      ],
      "text/plain": [
       "              Sl_No   Clothing_ID           Age        Rating     Recommend  \\\n",
       "count  23472.000000  23472.000000  23472.000000  23472.000000  23472.000000   \n",
       "mean   11738.965491    918.486665     43.200494      4.195595      0.822256   \n",
       "std     6779.729976    202.727678     12.280016      1.110238      0.382305   \n",
       "min        0.000000      0.000000     18.000000      1.000000      0.000000   \n",
       "25%     5867.750000    861.000000     34.000000      4.000000      1.000000   \n",
       "50%    11736.500000    936.000000     41.000000      5.000000      1.000000   \n",
       "75%    17610.250000   1078.000000     52.000000      5.000000      1.000000   \n",
       "max    23485.000000   1205.000000     99.000000      5.000000      1.000000   \n",
       "\n",
       "       Positive_Feedback_Count  \n",
       "count             23472.000000  \n",
       "mean                  2.537151  \n",
       "std                   5.703597  \n",
       "min                   0.000000  \n",
       "25%                   0.000000  \n",
       "50%                   1.000000  \n",
       "75%                   3.000000  \n",
       "max                 122.000000  "
      ]
     },
     "execution_count": 79,
     "metadata": {},
     "output_type": "execute_result"
    }
   ],
   "source": [
    "df.describe()"
   ]
  },
  {
   "cell_type": "code",
   "execution_count": 80,
   "id": "7bb8e8bc",
   "metadata": {},
   "outputs": [
    {
     "data": {
      "image/png": "[encoded data removed]",
      "text/plain": [
       "<Figure size 720x288 with 2 Axes>"
      ]
     },
     "metadata": {
      "needs_background": "light"
     },
     "output_type": "display_data"
    }
   ],
   "source": [
    "# As data range of values are wide for Age and Positive_Feedback_Count columns we can do outlier check using boxplots\n",
    "plt.figure(figsize=(10,4))\n",
    "plt.subplot(1,2,1)\n",
    "df.boxplot(column='Age')\n",
    "plt.title('Age boxplot',fontsize=12)\n",
    "plt.subplot(1,2,2)\n",
    "df.boxplot(column='Positive_Feedback_Count')\n",
    "plt.title('Positive_Feedback_Count boxplot',fontsize=12)\n",
    "plt.tight_layout()"
   ]
  },
  {
   "cell_type": "markdown",
   "id": "3053b60e",
   "metadata": {},
   "source": [
    "The above boxplots confirm presence of high outliers"
   ]
  },
  {
   "cell_type": "code",
   "execution_count": 81,
   "id": "f1c9f170",
   "metadata": {},
   "outputs": [],
   "source": [
    "# Outlier handling based on interquartile range rule of clipping the outliers based on upper and lower limits\n",
    "outliers_list=['Age','Positive_Feedback_Count']\n",
    "for i in outliers_list:\n",
    "    Q1 = df[i].quantile(0.25)\n",
    "    Q3 = df[i].quantile(0.75)\n",
    "    IQR = Q3 - Q1\n",
    "    l_lim=Q1-1.5*IQR\n",
    "    u_lim=Q3+1.5*IQR\n",
    "    df[i].where(df[i] >=l_lim,l_lim, inplace=True)  #clipping all lower outliers with lower limit\n",
    "    df[i].where(df[i] <=u_lim,u_lim, inplace=True)  #clipping all upper outliers with upper-limit"
   ]
  },
  {
   "cell_type": "code",
   "execution_count": 82,
   "id": "a97e849f",
   "metadata": {},
   "outputs": [
    {
     "data": {
      "image/png": "[encoded data removed]",
      "text/plain": [
       "<Figure size 720x288 with 2 Axes>"
      ]
     },
     "metadata": {
      "needs_background": "light"
     },
     "output_type": "display_data"
    }
   ],
   "source": [
    "#rechecking for outliers\n",
    "plt.figure(figsize=(10,4))\n",
    "plt.subplot(1,2,1)\n",
    "df.boxplot(column='Age')\n",
    "plt.title('Age boxplot',fontsize=12)\n",
    "plt.subplot(1,2,2)\n",
    "df.boxplot(column='Positive_Feedback_Count')\n",
    "plt.title('Positive_Feedback_Count boxplot',fontsize=12)\n",
    "plt.tight_layout()"
   ]
  },
  {
   "cell_type": "markdown",
   "id": "dd2fba5d",
   "metadata": {},
   "source": [
    "As per the above boxplots the outliers are no longer present"
   ]
  },
  {
   "cell_type": "markdown",
   "id": "c0e6ca70",
   "metadata": {},
   "source": [
    "#### Feature engineering"
   ]
  },
  {
   "cell_type": "code",
   "execution_count": 83,
   "id": "4bb127ea",
   "metadata": {},
   "outputs": [
    {
     "name": "stdout",
     "output_type": "stream",
     "text": [
      "count    23472.000000\n",
      "mean        43.174889\n",
      "std         12.196290\n",
      "min         18.000000\n",
      "25%         34.000000\n",
      "50%         41.000000\n",
      "75%         52.000000\n",
      "max         79.000000\n",
      "Name: Age, dtype: float64\n",
      "No. of unique elements:  62\n",
      "Unique elements:  [33. 34. 60. 50. 47. 49. 39. 24. 53. 44. 41. 32. 55. 31. 28. 46. 21. 36.\n",
      " 65. 29. 38. 59. 40. 23. 67. 48. 43. 52. 56. 66. 61. 57. 58. 37. 27. 62.\n",
      " 68. 51. 79. 69. 54. 63. 71. 30. 35. 64. 42. 22. 26. 72. 25. 45. 74. 70.\n",
      " 20. 77. 73. 78. 19. 76. 75. 18.]\n"
     ]
    }
   ],
   "source": [
    "print(df['Age'].describe())\n",
    "print(\"No. of unique elements: \",df['Age'].nunique())\n",
    "print(\"Unique elements: \",df['Age'].unique())"
   ]
  },
  {
   "cell_type": "markdown",
   "id": "4c314fc2",
   "metadata": {},
   "source": [
    "As per the above data, Age is a numerical column with 62 unique values varying from 18 to 79. To make Age more meaningful for further processing, it can be grouped into ranges that correspond to particular age group"
   ]
  },
  {
   "cell_type": "code",
   "execution_count": 84,
   "id": "fdbe7b4d",
   "metadata": {},
   "outputs": [],
   "source": [
    "# Ages ranging from 18-25 is considered as category Youngster, 26-40 - Adult, 41-64 - Middle Age,65-80 - Elderly\n",
    "df['Age']=pd.cut(df['Age'],bins=[18,25,40,64,80],labels=['Youngster','Adult','Middle Age','Elderly'])\n",
    "df['Age'] = df['Age'].astype('object') #converting from type category to object"
   ]
  },
  {
   "cell_type": "code",
   "execution_count": 85,
   "id": "12c77715",
   "metadata": {},
   "outputs": [
    {
     "name": "stdout",
     "output_type": "stream",
     "text": [
      "count          23468\n",
      "unique             4\n",
      "top       Middle Age\n",
      "freq           10847\n",
      "Name: Age, dtype: object \n",
      "\n",
      "Middle Age    10847\n",
      "Adult         10018\n",
      "Elderly        1386\n",
      "Youngster      1217\n",
      "Name: Age, dtype: int64\n"
     ]
    }
   ],
   "source": [
    "#checking Age column after feature engineering\n",
    "print(df['Age'].describe(),'\\n')\n",
    "print(df['Age'].value_counts())"
   ]
  },
  {
   "cell_type": "markdown",
   "id": "cb49c4a1",
   "metadata": {},
   "source": [
    "#### Feature reduction"
   ]
  },
  {
   "cell_type": "code",
   "execution_count": 86,
   "id": "f8ddf275",
   "metadata": {},
   "outputs": [
    {
     "data": {
      "text/plain": [
       "Index(['Sl_No', 'Clothing_ID', 'Age', 'Rating', 'Recommend',\n",
       "       'Positive_Feedback_Count', 'Division_Name', 'Department_Name',\n",
       "       'Class_Name'],\n",
       "      dtype='object')"
      ]
     },
     "execution_count": 86,
     "metadata": {},
     "output_type": "execute_result"
    }
   ],
   "source": [
    "df.columns"
   ]
  },
  {
   "cell_type": "markdown",
   "id": "e1465091",
   "metadata": {},
   "source": [
    "Since Sl_No and Clothing_ID are irrelevant for further data processing these columns can be dropped from the dataset"
   ]
  },
  {
   "cell_type": "code",
   "execution_count": 87,
   "id": "bcfbadb9",
   "metadata": {},
   "outputs": [],
   "source": [
    "df.drop(axis=1,columns=['Sl_No','Clothing_ID'],inplace=True)"
   ]
  },
  {
   "cell_type": "code",
   "execution_count": 88,
   "id": "b00e92c2",
   "metadata": {},
   "outputs": [],
   "source": [
    "df1=df.copy()"
   ]
  },
  {
   "cell_type": "markdown",
   "id": "ffd8259d",
   "metadata": {},
   "source": [
    "#### Encoding"
   ]
  },
  {
   "cell_type": "code",
   "execution_count": 89,
   "id": "bfb42aae",
   "metadata": {},
   "outputs": [
    {
     "name": "stdout",
     "output_type": "stream",
     "text": [
      "Age ['Adult' 'Middle Age' 'Youngster' 'Elderly' nan]\n",
      "Division_Name ['Initmates' 'General' 'General Petite']\n",
      "Department_Name ['Intimate' 'Dresses' 'Bottoms' 'Tops' 'Jackets' 'Trend']\n",
      "Class_Name ['Intimates' 'Dresses' 'Pants' 'Blouses' 'Knits' 'Outerwear' 'Lounge'\n",
      " 'Sweaters' 'Skirts' 'Fine gauge' 'Sleep' 'Jackets' 'Swim' 'Trend' 'Jeans'\n",
      " 'Legwear' 'Shorts' 'Layering' 'Casual bottoms' 'Chemises']\n"
     ]
    }
   ],
   "source": [
    "# finding categorical variables and their unique values for encoding\n",
    "df_obj=[f for f in df.columns if df[f].dtypes=='O']\n",
    "for d in df_obj:\n",
    "    print(d,df[d].unique())"
   ]
  },
  {
   "cell_type": "code",
   "execution_count": 90,
   "id": "33c953d6",
   "metadata": {},
   "outputs": [],
   "source": [
    "#label encoding for Class_Name\n",
    "from sklearn.preprocessing import LabelEncoder\n",
    "le=LabelEncoder()\n",
    "df['Class_Name']=le.fit_transform(df['Class_Name'])"
   ]
  },
  {
   "cell_type": "code",
   "execution_count": 91,
   "id": "be164600",
   "metadata": {},
   "outputs": [
    {
     "data": {
      "text/html": [
       "<div>\n",
       "<style scoped>\n",
       "    .dataframe tbody tr th:only-of-type {\n",
       "        vertical-align: middle;\n",
       "    }\n",
       "\n",
       "    .dataframe tbody tr th {\n",
       "        vertical-align: top;\n",
       "    }\n",
       "\n",
       "    .dataframe thead th {\n",
       "        text-align: right;\n",
       "    }\n",
       "</style>\n",
       "<table border=\"1\" class=\"dataframe\">\n",
       "  <thead>\n",
       "    <tr style=\"text-align: right;\">\n",
       "      <th></th>\n",
       "      <th>Rating</th>\n",
       "      <th>Recommend</th>\n",
       "      <th>Positive_Feedback_Count</th>\n",
       "      <th>Class_Name</th>\n",
       "      <th>Age_Elderly</th>\n",
       "      <th>Age_Middle Age</th>\n",
       "      <th>Age_Youngster</th>\n",
       "      <th>Division_Name_General Petite</th>\n",
       "      <th>Division_Name_Initmates</th>\n",
       "      <th>Department_Name_Dresses</th>\n",
       "      <th>Department_Name_Intimate</th>\n",
       "      <th>Department_Name_Jackets</th>\n",
       "      <th>Department_Name_Tops</th>\n",
       "      <th>Department_Name_Trend</th>\n",
       "    </tr>\n",
       "  </thead>\n",
       "  <tbody>\n",
       "    <tr>\n",
       "      <th>0</th>\n",
       "      <td>4.0</td>\n",
       "      <td>1</td>\n",
       "      <td>0.0</td>\n",
       "      <td>5</td>\n",
       "      <td>0</td>\n",
       "      <td>0</td>\n",
       "      <td>0</td>\n",
       "      <td>0</td>\n",
       "      <td>1</td>\n",
       "      <td>0</td>\n",
       "      <td>1</td>\n",
       "      <td>0</td>\n",
       "      <td>0</td>\n",
       "      <td>0</td>\n",
       "    </tr>\n",
       "    <tr>\n",
       "      <th>1</th>\n",
       "      <td>5.0</td>\n",
       "      <td>1</td>\n",
       "      <td>4.0</td>\n",
       "      <td>3</td>\n",
       "      <td>0</td>\n",
       "      <td>0</td>\n",
       "      <td>0</td>\n",
       "      <td>0</td>\n",
       "      <td>0</td>\n",
       "      <td>1</td>\n",
       "      <td>0</td>\n",
       "      <td>0</td>\n",
       "      <td>0</td>\n",
       "      <td>0</td>\n",
       "    </tr>\n",
       "    <tr>\n",
       "      <th>2</th>\n",
       "      <td>3.0</td>\n",
       "      <td>0</td>\n",
       "      <td>0.0</td>\n",
       "      <td>3</td>\n",
       "      <td>0</td>\n",
       "      <td>1</td>\n",
       "      <td>0</td>\n",
       "      <td>0</td>\n",
       "      <td>0</td>\n",
       "      <td>1</td>\n",
       "      <td>0</td>\n",
       "      <td>0</td>\n",
       "      <td>0</td>\n",
       "      <td>0</td>\n",
       "    </tr>\n",
       "    <tr>\n",
       "      <th>3</th>\n",
       "      <td>5.0</td>\n",
       "      <td>1</td>\n",
       "      <td>0.0</td>\n",
       "      <td>13</td>\n",
       "      <td>0</td>\n",
       "      <td>1</td>\n",
       "      <td>0</td>\n",
       "      <td>1</td>\n",
       "      <td>0</td>\n",
       "      <td>0</td>\n",
       "      <td>0</td>\n",
       "      <td>0</td>\n",
       "      <td>0</td>\n",
       "      <td>0</td>\n",
       "    </tr>\n",
       "    <tr>\n",
       "      <th>4</th>\n",
       "      <td>5.0</td>\n",
       "      <td>1</td>\n",
       "      <td>6.0</td>\n",
       "      <td>0</td>\n",
       "      <td>0</td>\n",
       "      <td>1</td>\n",
       "      <td>0</td>\n",
       "      <td>0</td>\n",
       "      <td>0</td>\n",
       "      <td>0</td>\n",
       "      <td>0</td>\n",
       "      <td>0</td>\n",
       "      <td>1</td>\n",
       "      <td>0</td>\n",
       "    </tr>\n",
       "  </tbody>\n",
       "</table>\n",
       "</div>"
      ],
      "text/plain": [
       "   Rating  Recommend  Positive_Feedback_Count  Class_Name  Age_Elderly  \\\n",
       "0     4.0          1                      0.0           5            0   \n",
       "1     5.0          1                      4.0           3            0   \n",
       "2     3.0          0                      0.0           3            0   \n",
       "3     5.0          1                      0.0          13            0   \n",
       "4     5.0          1                      6.0           0            0   \n",
       "\n",
       "   Age_Middle Age  Age_Youngster  Division_Name_General Petite  \\\n",
       "0               0              0                             0   \n",
       "1               0              0                             0   \n",
       "2               1              0                             0   \n",
       "3               1              0                             1   \n",
       "4               1              0                             0   \n",
       "\n",
       "   Division_Name_Initmates  Department_Name_Dresses  Department_Name_Intimate  \\\n",
       "0                        1                        0                         1   \n",
       "1                        0                        1                         0   \n",
       "2                        0                        1                         0   \n",
       "3                        0                        0                         0   \n",
       "4                        0                        0                         0   \n",
       "\n",
       "   Department_Name_Jackets  Department_Name_Tops  Department_Name_Trend  \n",
       "0                        0                     0                      0  \n",
       "1                        0                     0                      0  \n",
       "2                        0                     0                      0  \n",
       "3                        0                     0                      0  \n",
       "4                        0                     1                      0  "
      ]
     },
     "execution_count": 91,
     "metadata": {},
     "output_type": "execute_result"
    }
   ],
   "source": [
    "#One Hot Encoding for remaining categorical columns Age, Division_Name, Department_Name\n",
    "df=pd.get_dummies(df,drop_first=True)\n",
    "pd.pandas.set_option('display.max_columns',None)\n",
    "df.head()"
   ]
  },
  {
   "cell_type": "markdown",
   "id": "261d3499",
   "metadata": {},
   "source": [
    "#### Normalization/Standardization"
   ]
  },
  {
   "cell_type": "code",
   "execution_count": 92,
   "id": "1ce6cea5",
   "metadata": {},
   "outputs": [
    {
     "data": {
      "text/html": [
       "<div>\n",
       "<style scoped>\n",
       "    .dataframe tbody tr th:only-of-type {\n",
       "        vertical-align: middle;\n",
       "    }\n",
       "\n",
       "    .dataframe tbody tr th {\n",
       "        vertical-align: top;\n",
       "    }\n",
       "\n",
       "    .dataframe thead th {\n",
       "        text-align: right;\n",
       "    }\n",
       "</style>\n",
       "<table border=\"1\" class=\"dataframe\">\n",
       "  <thead>\n",
       "    <tr style=\"text-align: right;\">\n",
       "      <th></th>\n",
       "      <th>Rating</th>\n",
       "      <th>Positive_Feedback_Count</th>\n",
       "      <th>Class_Name</th>\n",
       "    </tr>\n",
       "  </thead>\n",
       "  <tbody>\n",
       "    <tr>\n",
       "      <th>count</th>\n",
       "      <td>23472.000000</td>\n",
       "      <td>23472.000000</td>\n",
       "      <td>23472.000000</td>\n",
       "    </tr>\n",
       "    <tr>\n",
       "      <th>mean</th>\n",
       "      <td>4.195595</td>\n",
       "      <td>1.774220</td>\n",
       "      <td>6.934688</td>\n",
       "    </tr>\n",
       "    <tr>\n",
       "      <th>std</th>\n",
       "      <td>1.110238</td>\n",
       "      <td>2.454218</td>\n",
       "      <td>5.209500</td>\n",
       "    </tr>\n",
       "    <tr>\n",
       "      <th>min</th>\n",
       "      <td>1.000000</td>\n",
       "      <td>0.000000</td>\n",
       "      <td>0.000000</td>\n",
       "    </tr>\n",
       "    <tr>\n",
       "      <th>25%</th>\n",
       "      <td>4.000000</td>\n",
       "      <td>0.000000</td>\n",
       "      <td>3.000000</td>\n",
       "    </tr>\n",
       "    <tr>\n",
       "      <th>50%</th>\n",
       "      <td>5.000000</td>\n",
       "      <td>1.000000</td>\n",
       "      <td>7.000000</td>\n",
       "    </tr>\n",
       "    <tr>\n",
       "      <th>75%</th>\n",
       "      <td>5.000000</td>\n",
       "      <td>3.000000</td>\n",
       "      <td>10.000000</td>\n",
       "    </tr>\n",
       "    <tr>\n",
       "      <th>max</th>\n",
       "      <td>5.000000</td>\n",
       "      <td>7.500000</td>\n",
       "      <td>19.000000</td>\n",
       "    </tr>\n",
       "  </tbody>\n",
       "</table>\n",
       "</div>"
      ],
      "text/plain": [
       "             Rating  Positive_Feedback_Count    Class_Name\n",
       "count  23472.000000             23472.000000  23472.000000\n",
       "mean       4.195595                 1.774220      6.934688\n",
       "std        1.110238                 2.454218      5.209500\n",
       "min        1.000000                 0.000000      0.000000\n",
       "25%        4.000000                 0.000000      3.000000\n",
       "50%        5.000000                 1.000000      7.000000\n",
       "75%        5.000000                 3.000000     10.000000\n",
       "max        5.000000                 7.500000     19.000000"
      ]
     },
     "execution_count": 92,
     "metadata": {},
     "output_type": "execute_result"
    }
   ],
   "source": [
    "# basic column statistics before normalization\n",
    "df[['Rating','Positive_Feedback_Count','Class_Name']].describe()"
   ]
  },
  {
   "cell_type": "code",
   "execution_count": 93,
   "id": "8637d2d5",
   "metadata": {},
   "outputs": [
    {
     "data": {
      "text/html": [
       "<div>\n",
       "<style scoped>\n",
       "    .dataframe tbody tr th:only-of-type {\n",
       "        vertical-align: middle;\n",
       "    }\n",
       "\n",
       "    .dataframe tbody tr th {\n",
       "        vertical-align: top;\n",
       "    }\n",
       "\n",
       "    .dataframe thead th {\n",
       "        text-align: right;\n",
       "    }\n",
       "</style>\n",
       "<table border=\"1\" class=\"dataframe\">\n",
       "  <thead>\n",
       "    <tr style=\"text-align: right;\">\n",
       "      <th></th>\n",
       "      <th>Rating</th>\n",
       "      <th>Positive_Feedback_Count</th>\n",
       "      <th>Class_Name</th>\n",
       "    </tr>\n",
       "  </thead>\n",
       "  <tbody>\n",
       "    <tr>\n",
       "      <th>count</th>\n",
       "      <td>23472.000000</td>\n",
       "      <td>23472.000000</td>\n",
       "      <td>23472.000000</td>\n",
       "    </tr>\n",
       "    <tr>\n",
       "      <th>mean</th>\n",
       "      <td>0.798899</td>\n",
       "      <td>0.236563</td>\n",
       "      <td>0.364984</td>\n",
       "    </tr>\n",
       "    <tr>\n",
       "      <th>std</th>\n",
       "      <td>0.277560</td>\n",
       "      <td>0.327229</td>\n",
       "      <td>0.274184</td>\n",
       "    </tr>\n",
       "    <tr>\n",
       "      <th>min</th>\n",
       "      <td>0.000000</td>\n",
       "      <td>0.000000</td>\n",
       "      <td>0.000000</td>\n",
       "    </tr>\n",
       "    <tr>\n",
       "      <th>25%</th>\n",
       "      <td>0.750000</td>\n",
       "      <td>0.000000</td>\n",
       "      <td>0.157895</td>\n",
       "    </tr>\n",
       "    <tr>\n",
       "      <th>50%</th>\n",
       "      <td>1.000000</td>\n",
       "      <td>0.133333</td>\n",
       "      <td>0.368421</td>\n",
       "    </tr>\n",
       "    <tr>\n",
       "      <th>75%</th>\n",
       "      <td>1.000000</td>\n",
       "      <td>0.400000</td>\n",
       "      <td>0.526316</td>\n",
       "    </tr>\n",
       "    <tr>\n",
       "      <th>max</th>\n",
       "      <td>1.000000</td>\n",
       "      <td>1.000000</td>\n",
       "      <td>1.000000</td>\n",
       "    </tr>\n",
       "  </tbody>\n",
       "</table>\n",
       "</div>"
      ],
      "text/plain": [
       "             Rating  Positive_Feedback_Count    Class_Name\n",
       "count  23472.000000             23472.000000  23472.000000\n",
       "mean       0.798899                 0.236563      0.364984\n",
       "std        0.277560                 0.327229      0.274184\n",
       "min        0.000000                 0.000000      0.000000\n",
       "25%        0.750000                 0.000000      0.157895\n",
       "50%        1.000000                 0.133333      0.368421\n",
       "75%        1.000000                 0.400000      0.526316\n",
       "max        1.000000                 1.000000      1.000000"
      ]
     },
     "execution_count": 93,
     "metadata": {},
     "output_type": "execute_result"
    }
   ],
   "source": [
    "from sklearn.preprocessing import MinMaxScaler\n",
    "mm_scale=MinMaxScaler(feature_range=(0,1))\n",
    "df_std=mm_scale.fit_transform(df)\n",
    "df=pd.DataFrame(df_std,columns = df.columns)\n",
    "# basic column statistics after normalization\n",
    "df[['Rating','Positive_Feedback_Count','Class_Name']].describe()"
   ]
  },
  {
   "cell_type": "code",
   "execution_count": 94,
   "id": "104faea8",
   "metadata": {},
   "outputs": [
    {
     "data": {
      "text/html": [
       "<div>\n",
       "<style scoped>\n",
       "    .dataframe tbody tr th:only-of-type {\n",
       "        vertical-align: middle;\n",
       "    }\n",
       "\n",
       "    .dataframe tbody tr th {\n",
       "        vertical-align: top;\n",
       "    }\n",
       "\n",
       "    .dataframe thead th {\n",
       "        text-align: right;\n",
       "    }\n",
       "</style>\n",
       "<table border=\"1\" class=\"dataframe\">\n",
       "  <thead>\n",
       "    <tr style=\"text-align: right;\">\n",
       "      <th></th>\n",
       "      <th>Rating</th>\n",
       "      <th>Positive_Feedback_Count</th>\n",
       "      <th>Class_Name</th>\n",
       "    </tr>\n",
       "  </thead>\n",
       "  <tbody>\n",
       "    <tr>\n",
       "      <th>count</th>\n",
       "      <td>23472.000000</td>\n",
       "      <td>23472.000000</td>\n",
       "      <td>23472.000000</td>\n",
       "    </tr>\n",
       "    <tr>\n",
       "      <th>mean</th>\n",
       "      <td>0.798899</td>\n",
       "      <td>0.236563</td>\n",
       "      <td>0.364984</td>\n",
       "    </tr>\n",
       "    <tr>\n",
       "      <th>std</th>\n",
       "      <td>0.277560</td>\n",
       "      <td>0.327229</td>\n",
       "      <td>0.274184</td>\n",
       "    </tr>\n",
       "    <tr>\n",
       "      <th>min</th>\n",
       "      <td>0.000000</td>\n",
       "      <td>0.000000</td>\n",
       "      <td>0.000000</td>\n",
       "    </tr>\n",
       "    <tr>\n",
       "      <th>25%</th>\n",
       "      <td>0.750000</td>\n",
       "      <td>0.000000</td>\n",
       "      <td>0.157895</td>\n",
       "    </tr>\n",
       "    <tr>\n",
       "      <th>50%</th>\n",
       "      <td>1.000000</td>\n",
       "      <td>0.133333</td>\n",
       "      <td>0.368421</td>\n",
       "    </tr>\n",
       "    <tr>\n",
       "      <th>75%</th>\n",
       "      <td>1.000000</td>\n",
       "      <td>0.400000</td>\n",
       "      <td>0.526316</td>\n",
       "    </tr>\n",
       "    <tr>\n",
       "      <th>max</th>\n",
       "      <td>1.000000</td>\n",
       "      <td>1.000000</td>\n",
       "      <td>1.000000</td>\n",
       "    </tr>\n",
       "  </tbody>\n",
       "</table>\n",
       "</div>"
      ],
      "text/plain": [
       "             Rating  Positive_Feedback_Count    Class_Name\n",
       "count  23472.000000             23472.000000  23472.000000\n",
       "mean       0.798899                 0.236563      0.364984\n",
       "std        0.277560                 0.327229      0.274184\n",
       "min        0.000000                 0.000000      0.000000\n",
       "25%        0.750000                 0.000000      0.157895\n",
       "50%        1.000000                 0.133333      0.368421\n",
       "75%        1.000000                 0.400000      0.526316\n",
       "max        1.000000                 1.000000      1.000000"
      ]
     },
     "execution_count": 94,
     "metadata": {},
     "output_type": "execute_result"
    }
   ],
   "source": [
    "from sklearn.preprocessing import MinMaxScaler\n",
    "mm_scale=MinMaxScaler(feature_range=(0,1))\n",
    "df_std=mm_scale.fit_transform(df)\n",
    "df=pd.DataFrame(df_std,columns = df.columns)\n",
    "df[['Rating','Positive_Feedback_Count','Class_Name']].describe()"
   ]
  },
  {
   "cell_type": "markdown",
   "id": "40972606",
   "metadata": {},
   "source": [
    "#### Checking correlation between features"
   ]
  },
  {
   "cell_type": "code",
   "execution_count": 95,
   "id": "b13741ad",
   "metadata": {},
   "outputs": [
    {
     "data": {
      "text/plain": [
       "<AxesSubplot:>"
      ]
     },
     "execution_count": 95,
     "metadata": {},
     "output_type": "execute_result"
    },
    {
     "data": {
      "image/png": "[encoded data removed]",
      "text/plain": [
       "<Figure size 864x432 with 2 Axes>"
      ]
     },
     "metadata": {
      "needs_background": "light"
     },
     "output_type": "display_data"
    }
   ],
   "source": [
    "plt.figure(figsize=(12,6))\n",
    "sns.heatmap(data=df.corr(),annot=True,linewidth=0.2)"
   ]
  },
  {
   "cell_type": "markdown",
   "id": "093b6059",
   "metadata": {},
   "source": [
    "Based on the above heatmap columns 'Department_Name_Intimate' and 'Division_Name_Intimates' have high positive correlation of 0.93, therefore we can drop one of the 2 columns"
   ]
  },
  {
   "cell_type": "code",
   "execution_count": 96,
   "id": "d7d1b8b4",
   "metadata": {},
   "outputs": [
    {
     "data": {
      "text/plain": [
       "Index(['Rating', 'Recommend', 'Positive_Feedback_Count', 'Class_Name',\n",
       "       'Age_Elderly', 'Age_Middle Age', 'Age_Youngster',\n",
       "       'Division_Name_General Petite', 'Department_Name_Dresses',\n",
       "       'Department_Name_Intimate', 'Department_Name_Jackets',\n",
       "       'Department_Name_Tops', 'Department_Name_Trend'],\n",
       "      dtype='object')"
      ]
     },
     "execution_count": 96,
     "metadata": {},
     "output_type": "execute_result"
    }
   ],
   "source": [
    "df.drop(axis=1,columns=['Division_Name_Initmates'],inplace=True)\n",
    "df.columns"
   ]
  },
  {
   "cell_type": "markdown",
   "id": "d82786ec",
   "metadata": {},
   "source": [
    "### Exploratory Data Analysis (Univariate and Bivariate)"
   ]
  },
  {
   "cell_type": "code",
   "execution_count": 97,
   "id": "6607a824",
   "metadata": {},
   "outputs": [
    {
     "data": {
      "text/plain": [
       "Index(['Age', 'Rating', 'Recommend', 'Positive_Feedback_Count',\n",
       "       'Division_Name', 'Department_Name', 'Class_Name'],\n",
       "      dtype='object')"
      ]
     },
     "execution_count": 97,
     "metadata": {},
     "output_type": "execute_result"
    }
   ],
   "source": [
    "df1.columns"
   ]
  },
  {
   "cell_type": "code",
   "execution_count": 98,
   "id": "cd65908d",
   "metadata": {},
   "outputs": [
    {
     "data": {
      "text/plain": [
       "Text(0.5, 1.0, 'Distribution of Recommend status')"
      ]
     },
     "execution_count": 98,
     "metadata": {},
     "output_type": "execute_result"
    },
    {
     "data": {
      "image/png": "[encoded data removed]",
      "text/plain": [
       "<Figure size 432x288 with 1 Axes>"
      ]
     },
     "metadata": {},
     "output_type": "display_data"
    }
   ],
   "source": [
    "df1.loc[df1['Recommend']==0,'Recommend']='Not Recommended'\n",
    "df1.loc[df1['Recommend']==1,'Recommend']='Recommended'\n",
    "plt.figure(figsize=(6,4))\n",
    "plt.pie(x=df1['Recommend'].value_counts(),labels=('Recommended','Not Recommended'), autopct=\"%.2f%%\")\n",
    "plt.title('Distribution of Recommend status',fontsize=12)"
   ]
  },
  {
   "cell_type": "markdown",
   "id": "9635796a",
   "metadata": {},
   "source": [
    "There is a higher rate of recommendation at 82% in the dataset"
   ]
  },
  {
   "cell_type": "code",
   "execution_count": 99,
   "id": "69cb243e",
   "metadata": {},
   "outputs": [
    {
     "data": {
      "text/plain": [
       "<seaborn.axisgrid.FacetGrid at 0x15d2400b550>"
      ]
     },
     "execution_count": 99,
     "metadata": {},
     "output_type": "execute_result"
    },
    {
     "data": {
      "image/png": "[encoded data removed]",
      "text/plain": [
       "<Figure size 412x360 with 1 Axes>"
      ]
     },
     "metadata": {
      "needs_background": "light"
     },
     "output_type": "display_data"
    }
   ],
   "source": [
    "sns.catplot(x='Recommend', kind=\"count\", hue='Rating',data=df1).set(title='Recommendations as per rating')"
   ]
  },
  {
   "cell_type": "markdown",
   "id": "b56d9d2c",
   "metadata": {},
   "source": [
    "The recommendation(Recommend=1) is significant for rating 5,4 and 3 only where as non-recommendation(Recommend=0) is significant for ratings 1,2 and 3 only"
   ]
  },
  {
   "cell_type": "code",
   "execution_count": 100,
   "id": "d7552b6c",
   "metadata": {},
   "outputs": [
    {
     "data": {
      "text/plain": [
       "<seaborn.axisgrid.FacetGrid at 0x15d24005e80>"
      ]
     },
     "execution_count": 100,
     "metadata": {},
     "output_type": "execute_result"
    },
    {
     "data": {
      "image/png": "[encoded data removed]",
      "text/plain": [
       "<Figure size 451.75x360 with 1 Axes>"
      ]
     },
     "metadata": {
      "needs_background": "light"
     },
     "output_type": "display_data"
    }
   ],
   "source": [
    "sns.catplot(x='Rating', kind=\"count\", hue='Age',data=df1).set(title='Age-wise rating')"
   ]
  },
  {
   "cell_type": "markdown",
   "id": "11c05048",
   "metadata": {},
   "source": [
    "Adult and Middle Age group are significantly active across all ratings probably because they are the working age group and have more liberty of spending when compared to Youngsters and Elderly"
   ]
  },
  {
   "cell_type": "code",
   "execution_count": 101,
   "id": "5745db04",
   "metadata": {},
   "outputs": [
    {
     "name": "stdout",
     "output_type": "stream",
     "text": [
      "          Age  Positive_Feedback_Count\n",
      "0       Adult                    10018\n",
      "1     Elderly                     1386\n",
      "2  Middle Age                    10847\n",
      "3   Youngster                     1217\n"
     ]
    },
    {
     "data": {
      "text/plain": [
       "[Text(0.5, 1.0, 'Age-wise Positive feedback count')]"
      ]
     },
     "execution_count": 101,
     "metadata": {},
     "output_type": "execute_result"
    },
    {
     "data": {
      "image/png": "[encoded data removed]",
      "text/plain": [
       "<Figure size 432x288 with 1 Axes>"
      ]
     },
     "metadata": {
      "needs_background": "light"
     },
     "output_type": "display_data"
    }
   ],
   "source": [
    "df_fb=df1.groupby('Age')['Positive_Feedback_Count'].size().reset_index()\n",
    "print(df_fb)\n",
    "sns.barplot(x=\"Age\", y=\"Positive_Feedback_Count\", data=df_fb).set(title='Age-wise Positive feedback count')"
   ]
  },
  {
   "cell_type": "markdown",
   "id": "f74b2f9e",
   "metadata": {},
   "source": [
    "Positive feedback count among Adult and Middle Age is significantly higher as per the above plot"
   ]
  },
  {
   "cell_type": "code",
   "execution_count": 102,
   "id": "8eb4b44f",
   "metadata": {},
   "outputs": [
    {
     "name": "stdout",
     "output_type": "stream",
     "text": [
      "   Rating  Positive_Feedback_Count\n",
      "0     1.0                      842\n",
      "1     2.0                     1565\n",
      "2     3.0                     2872\n",
      "3     4.0                     5074\n",
      "4     5.0                    13119\n"
     ]
    },
    {
     "data": {
      "text/plain": [
       "[Text(0.5, 1.0, 'Rating-wise Positive feedback count')]"
      ]
     },
     "execution_count": 102,
     "metadata": {},
     "output_type": "execute_result"
    },
    {
     "data": {
      "image/png": "[encoded data removed]",
      "text/plain": [
       "<Figure size 432x288 with 1 Axes>"
      ]
     },
     "metadata": {
      "needs_background": "light"
     },
     "output_type": "display_data"
    }
   ],
   "source": [
    "df_fb=df1.groupby('Rating')['Positive_Feedback_Count'].size().reset_index()\n",
    "print(df_fb)\n",
    "sns.barplot(x=\"Rating\", y=\"Positive_Feedback_Count\", data=df_fb).set(title='Rating-wise Positive feedback count')"
   ]
  },
  {
   "cell_type": "markdown",
   "id": "23cc275d",
   "metadata": {},
   "source": [
    "The above plot confirms the fact that higher the ratings greater will be the positive feedbacks"
   ]
  },
  {
   "cell_type": "code",
   "execution_count": 103,
   "id": "f4fe4b29",
   "metadata": {},
   "outputs": [
    {
     "data": {
      "text/plain": [
       "Text(0.5, 1.0, 'Age-category pie plot')"
      ]
     },
     "execution_count": 103,
     "metadata": {},
     "output_type": "execute_result"
    },
    {
     "data": {
      "image/png": "[encoded data removed]",
      "text/plain": [
       "<Figure size 432x720 with 1 Axes>"
      ]
     },
     "metadata": {},
     "output_type": "display_data"
    }
   ],
   "source": [
    "df1.Age.value_counts().plot.pie(figsize=(6, 10),autopct='%1.2f%%')\n",
    "plt.title('Age-category pie plot')"
   ]
  },
  {
   "cell_type": "markdown",
   "id": "86fd041e",
   "metadata": {},
   "source": [
    "The above pie-chart gives an idea of the ditribution of age groups within the dataset. The middle age group constitutes a whopping 46% followed by adults at 43% and Youngsters and eldery together constitutes the remaining 11%"
   ]
  },
  {
   "cell_type": "code",
   "execution_count": 104,
   "id": "e266ae20",
   "metadata": {},
   "outputs": [
    {
     "data": {
      "text/plain": [
       "Text(0.5, 1.0, 'Division-wise pie plot')"
      ]
     },
     "execution_count": 104,
     "metadata": {},
     "output_type": "execute_result"
    },
    {
     "data": {
      "image/png": "[encoded data removed]",
      "text/plain": [
       "<Figure size 360x720 with 1 Axes>"
      ]
     },
     "metadata": {},
     "output_type": "display_data"
    }
   ],
   "source": [
    "df1.Division_Name.value_counts().plot.pie(figsize=(5, 10),autopct='%1.2f%%')\n",
    "plt.title('Division-wise pie plot')"
   ]
  },
  {
   "cell_type": "markdown",
   "id": "b12f3c85",
   "metadata": {},
   "source": [
    "General division is the most popular division at 59%"
   ]
  },
  {
   "cell_type": "code",
   "execution_count": 105,
   "id": "0a31c283",
   "metadata": {},
   "outputs": [
    {
     "data": {
      "text/plain": [
       "Text(0.5, 1.0, 'Department-wise pie plot')"
      ]
     },
     "execution_count": 105,
     "metadata": {},
     "output_type": "execute_result"
    },
    {
     "data": {
      "image/png": "[encoded data removed]",
      "text/plain": [
       "<Figure size 504x720 with 1 Axes>"
      ]
     },
     "metadata": {},
     "output_type": "display_data"
    }
   ],
   "source": [
    "df1.Department_Name.value_counts().plot.pie(figsize=(7, 10),autopct='%1.2f%%')\n",
    "plt.title('Department-wise pie plot')"
   ]
  },
  {
   "cell_type": "markdown",
   "id": "23223dda",
   "metadata": {},
   "source": [
    "As per the above pie plot tops are the most purchased item across department at 44.6% and trend items at 0.51% are the least purchased"
   ]
  },
  {
   "cell_type": "code",
   "execution_count": 106,
   "id": "08a7ccb6",
   "metadata": {},
   "outputs": [
    {
     "name": "stdout",
     "output_type": "stream",
     "text": [
      "Dresses           6319\n",
      "Knits             4843\n",
      "Blouses           3097\n",
      "Sweaters          1428\n",
      "Pants             1388\n",
      "Jeans             1147\n",
      "Fine gauge        1100\n",
      "Skirts             945\n",
      "Jackets            704\n",
      "Lounge             691\n",
      "Swim               350\n",
      "Outerwear          328\n",
      "Shorts             317\n",
      "Sleep              228\n",
      "Legwear            165\n",
      "Intimates          154\n",
      "Layering           146\n",
      "Trend              119\n",
      "Casual bottoms       2\n",
      "Chemises             1\n",
      "Name: Class_Name, dtype: int64\n"
     ]
    },
    {
     "data": {
      "text/plain": [
       "Text(0.5, 1.0, 'Top 10 Class-wise contribution')"
      ]
     },
     "execution_count": 106,
     "metadata": {},
     "output_type": "execute_result"
    },
    {
     "data": {
      "image/png": "[encoded data removed]",
      "text/plain": [
       "<Figure size 576x720 with 1 Axes>"
      ]
     },
     "metadata": {},
     "output_type": "display_data"
    }
   ],
   "source": [
    "df_class=df1.Class_Name.value_counts()\n",
    "print(df_class)\n",
    "df_class[:10].plot.pie(figsize=(8, 10),autopct='%1.2f%%')\n",
    "plt.title('Top 10 Class-wise contribution')"
   ]
  },
  {
   "cell_type": "markdown",
   "id": "e35725e6",
   "metadata": {},
   "source": [
    "Dresses are the most popular item at 29% across all classes. The above pie-chart shows the 10 most popular items across the classes"
   ]
  },
  {
   "cell_type": "code",
   "execution_count": 107,
   "id": "d1804e75",
   "metadata": {},
   "outputs": [
    {
     "name": "stdout",
     "output_type": "stream",
     "text": [
      "     Division_Name Department_Name  Count\n",
      "0          General         Bottoms   2542\n",
      "1          General         Dresses   3730\n",
      "2          General         Jackets    645\n",
      "3          General            Tops   6837\n",
      "4          General           Trend     96\n",
      "5   General Petite         Bottoms   1257\n",
      "6   General Petite         Dresses   2589\n",
      "7   General Petite        Intimate    233\n",
      "8   General Petite         Jackets    387\n",
      "9   General Petite            Tops   3631\n",
      "10  General Petite           Trend     23\n",
      "11       Initmates        Intimate   1502\n"
     ]
    },
    {
     "data": {
      "text/plain": [
       "<matplotlib.legend.Legend at 0x15d15b6f340>"
      ]
     },
     "execution_count": 107,
     "metadata": {},
     "output_type": "execute_result"
    },
    {
     "data": {
      "image/png": "[encoded data removed]",
      "text/plain": [
       "<Figure size 432x288 with 1 Axes>"
      ]
     },
     "metadata": {
      "needs_background": "light"
     },
     "output_type": "display_data"
    }
   ],
   "source": [
    "df_d=df1.groupby(['Division_Name','Department_Name']).size().reset_index().rename(columns={0:'Count'})\n",
    "print(df_d)\n",
    "sns.barplot(x='Division_Name', y=\"Count\", hue='Department_Name',data=df_d).set(title='Department-wise popularity among divisions')\n",
    "plt.legend(title='Department_Name',bbox_to_anchor=(1.05, 0.8), loc='upper left', borderaxespad=0)"
   ]
  },
  {
   "cell_type": "markdown",
   "id": "5fc7d78d",
   "metadata": {},
   "source": [
    "From the above plot the General department has most sales across the various departments under it"
   ]
  },
  {
   "cell_type": "code",
   "execution_count": 108,
   "id": "80367f42",
   "metadata": {},
   "outputs": [
    {
     "name": "stdout",
     "output_type": "stream",
     "text": [
      "   Department_Name  Rating  Count   % Rating\n",
      "0          Bottoms     1.0    115   3.027112\n",
      "1          Bottoms     2.0    205   5.396157\n",
      "2          Bottoms     3.0    421  11.081864\n",
      "3          Bottoms     4.0    785  20.663332\n",
      "4          Bottoms     5.0   2273  59.831535\n",
      "5          Dresses     1.0    228   3.608166\n",
      "6          Dresses     2.0    461   7.295458\n",
      "7          Dresses     3.0    839  13.277417\n",
      "8          Dresses     4.0   1393  22.044627\n",
      "9          Dresses     5.0   3398  53.774331\n",
      "10        Intimate     1.0     63   3.631124\n",
      "11        Intimate     2.0     90   5.187320\n",
      "12        Intimate     3.0    178  10.259366\n",
      "13        Intimate     4.0    370  21.325648\n",
      "14        Intimate     5.0   1034  59.596542\n",
      "15         Jackets     1.0     49   4.748062\n",
      "16         Jackets     2.0     60   5.813953\n",
      "17         Jackets     3.0     91   8.817829\n",
      "18         Jackets     4.0    201  19.476744\n",
      "19         Jackets     5.0    631  61.143411\n",
      "20            Tops     1.0    376   3.591899\n",
      "21            Tops     2.0    738   7.050057\n",
      "22            Tops     3.0   1324  12.648070\n",
      "23            Tops     4.0   2299  21.962170\n",
      "24            Tops     5.0   5731  54.747803\n",
      "25           Trend     1.0     11   9.243697\n",
      "26           Trend     2.0     11   9.243697\n",
      "27           Trend     3.0     19  15.966387\n",
      "28           Trend     4.0     26  21.848739\n",
      "29           Trend     5.0     52  43.697479\n"
     ]
    },
    {
     "data": {
      "text/plain": [
       "<matplotlib.legend.Legend at 0x15d24b5e0a0>"
      ]
     },
     "execution_count": 108,
     "metadata": {},
     "output_type": "execute_result"
    },
    {
     "data": {
      "image/png": "[encoded data removed]",
      "text/plain": [
       "<Figure size 720x360 with 1 Axes>"
      ]
     },
     "metadata": {
      "needs_background": "light"
     },
     "output_type": "display_data"
    }
   ],
   "source": [
    "df_d=df1.groupby(['Department_Name','Rating']).size().reset_index().rename(columns={0:'Count'})\n",
    "df_d['% Rating'] = df_d.apply(lambda row: row.Count / (df1.groupby(['Department_Name']).size()[row.Department_Name]) *100, axis=1)\n",
    "print(df_d)\n",
    "plt.figure(figsize=(10,5))\n",
    "sns.barplot(x='Department_Name', y=\"% Rating\", hue='Rating',data=df_d).set(title='Department-wise Rating distribution')\n",
    "plt.legend(title='Rating',bbox_to_anchor=(1.05, 0.8), loc='upper left', borderaxespad=0)"
   ]
  },
  {
   "cell_type": "markdown",
   "id": "4e30f9ac",
   "metadata": {},
   "source": [
    "Across all departments the share of each rating increases with rating value and rating 5 constitutes more than 50% of all ratings. Trend department is seen to have comparitively higher % (9%) for rate 1 when compared to others(<5%) "
   ]
  },
  {
   "cell_type": "code",
   "execution_count": 109,
   "id": "8ebb7b5f",
   "metadata": {},
   "outputs": [
    {
     "data": {
      "text/html": [
       "<div>\n",
       "<style scoped>\n",
       "    .dataframe tbody tr th:only-of-type {\n",
       "        vertical-align: middle;\n",
       "    }\n",
       "\n",
       "    .dataframe tbody tr th {\n",
       "        vertical-align: top;\n",
       "    }\n",
       "\n",
       "    .dataframe thead th {\n",
       "        text-align: right;\n",
       "    }\n",
       "</style>\n",
       "<table border=\"1\" class=\"dataframe\">\n",
       "  <thead>\n",
       "    <tr style=\"text-align: right;\">\n",
       "      <th></th>\n",
       "      <th>Department_Name</th>\n",
       "      <th>Age</th>\n",
       "      <th>Count</th>\n",
       "    </tr>\n",
       "  </thead>\n",
       "  <tbody>\n",
       "    <tr>\n",
       "      <th>0</th>\n",
       "      <td>Bottoms</td>\n",
       "      <td>Adult</td>\n",
       "      <td>1623</td>\n",
       "    </tr>\n",
       "    <tr>\n",
       "      <th>1</th>\n",
       "      <td>Bottoms</td>\n",
       "      <td>Elderly</td>\n",
       "      <td>184</td>\n",
       "    </tr>\n",
       "    <tr>\n",
       "      <th>2</th>\n",
       "      <td>Bottoms</td>\n",
       "      <td>Middle Age</td>\n",
       "      <td>1810</td>\n",
       "    </tr>\n",
       "    <tr>\n",
       "      <th>3</th>\n",
       "      <td>Bottoms</td>\n",
       "      <td>Youngster</td>\n",
       "      <td>181</td>\n",
       "    </tr>\n",
       "    <tr>\n",
       "      <th>4</th>\n",
       "      <td>Dresses</td>\n",
       "      <td>Adult</td>\n",
       "      <td>2905</td>\n",
       "    </tr>\n",
       "    <tr>\n",
       "      <th>5</th>\n",
       "      <td>Dresses</td>\n",
       "      <td>Elderly</td>\n",
       "      <td>289</td>\n",
       "    </tr>\n",
       "    <tr>\n",
       "      <th>6</th>\n",
       "      <td>Dresses</td>\n",
       "      <td>Middle Age</td>\n",
       "      <td>2768</td>\n",
       "    </tr>\n",
       "    <tr>\n",
       "      <th>7</th>\n",
       "      <td>Dresses</td>\n",
       "      <td>Youngster</td>\n",
       "      <td>355</td>\n",
       "    </tr>\n",
       "    <tr>\n",
       "      <th>8</th>\n",
       "      <td>Intimate</td>\n",
       "      <td>Adult</td>\n",
       "      <td>857</td>\n",
       "    </tr>\n",
       "    <tr>\n",
       "      <th>9</th>\n",
       "      <td>Intimate</td>\n",
       "      <td>Elderly</td>\n",
       "      <td>97</td>\n",
       "    </tr>\n",
       "    <tr>\n",
       "      <th>10</th>\n",
       "      <td>Intimate</td>\n",
       "      <td>Middle Age</td>\n",
       "      <td>666</td>\n",
       "    </tr>\n",
       "    <tr>\n",
       "      <th>11</th>\n",
       "      <td>Intimate</td>\n",
       "      <td>Youngster</td>\n",
       "      <td>115</td>\n",
       "    </tr>\n",
       "    <tr>\n",
       "      <th>12</th>\n",
       "      <td>Jackets</td>\n",
       "      <td>Adult</td>\n",
       "      <td>437</td>\n",
       "    </tr>\n",
       "    <tr>\n",
       "      <th>13</th>\n",
       "      <td>Jackets</td>\n",
       "      <td>Elderly</td>\n",
       "      <td>81</td>\n",
       "    </tr>\n",
       "    <tr>\n",
       "      <th>14</th>\n",
       "      <td>Jackets</td>\n",
       "      <td>Middle Age</td>\n",
       "      <td>460</td>\n",
       "    </tr>\n",
       "    <tr>\n",
       "      <th>15</th>\n",
       "      <td>Jackets</td>\n",
       "      <td>Youngster</td>\n",
       "      <td>54</td>\n",
       "    </tr>\n",
       "    <tr>\n",
       "      <th>16</th>\n",
       "      <td>Tops</td>\n",
       "      <td>Adult</td>\n",
       "      <td>4153</td>\n",
       "    </tr>\n",
       "    <tr>\n",
       "      <th>17</th>\n",
       "      <td>Tops</td>\n",
       "      <td>Elderly</td>\n",
       "      <td>727</td>\n",
       "    </tr>\n",
       "    <tr>\n",
       "      <th>18</th>\n",
       "      <td>Tops</td>\n",
       "      <td>Middle Age</td>\n",
       "      <td>5085</td>\n",
       "    </tr>\n",
       "    <tr>\n",
       "      <th>19</th>\n",
       "      <td>Tops</td>\n",
       "      <td>Youngster</td>\n",
       "      <td>502</td>\n",
       "    </tr>\n",
       "    <tr>\n",
       "      <th>20</th>\n",
       "      <td>Trend</td>\n",
       "      <td>Adult</td>\n",
       "      <td>43</td>\n",
       "    </tr>\n",
       "    <tr>\n",
       "      <th>21</th>\n",
       "      <td>Trend</td>\n",
       "      <td>Elderly</td>\n",
       "      <td>8</td>\n",
       "    </tr>\n",
       "    <tr>\n",
       "      <th>22</th>\n",
       "      <td>Trend</td>\n",
       "      <td>Middle Age</td>\n",
       "      <td>58</td>\n",
       "    </tr>\n",
       "    <tr>\n",
       "      <th>23</th>\n",
       "      <td>Trend</td>\n",
       "      <td>Youngster</td>\n",
       "      <td>10</td>\n",
       "    </tr>\n",
       "  </tbody>\n",
       "</table>\n",
       "</div>"
      ],
      "text/plain": [
       "   Department_Name         Age  Count\n",
       "0          Bottoms       Adult   1623\n",
       "1          Bottoms     Elderly    184\n",
       "2          Bottoms  Middle Age   1810\n",
       "3          Bottoms   Youngster    181\n",
       "4          Dresses       Adult   2905\n",
       "5          Dresses     Elderly    289\n",
       "6          Dresses  Middle Age   2768\n",
       "7          Dresses   Youngster    355\n",
       "8         Intimate       Adult    857\n",
       "9         Intimate     Elderly     97\n",
       "10        Intimate  Middle Age    666\n",
       "11        Intimate   Youngster    115\n",
       "12         Jackets       Adult    437\n",
       "13         Jackets     Elderly     81\n",
       "14         Jackets  Middle Age    460\n",
       "15         Jackets   Youngster     54\n",
       "16            Tops       Adult   4153\n",
       "17            Tops     Elderly    727\n",
       "18            Tops  Middle Age   5085\n",
       "19            Tops   Youngster    502\n",
       "20           Trend       Adult     43\n",
       "21           Trend     Elderly      8\n",
       "22           Trend  Middle Age     58\n",
       "23           Trend   Youngster     10"
      ]
     },
     "execution_count": 109,
     "metadata": {},
     "output_type": "execute_result"
    }
   ],
   "source": [
    "df_d=df1.groupby(['Department_Name','Age']).size().reset_index().rename(columns={0:'Count'})\n",
    "df_d"
   ]
  },
  {
   "cell_type": "code",
   "execution_count": 110,
   "id": "aa7954fd",
   "metadata": {},
   "outputs": [
    {
     "data": {
      "text/plain": [
       "<matplotlib.legend.Legend at 0x15d24b2b370>"
      ]
     },
     "execution_count": 110,
     "metadata": {},
     "output_type": "execute_result"
    },
    {
     "data": {
      "image/png": "[encoded data removed]",
      "text/plain": [
       "<Figure size 720x360 with 1 Axes>"
      ]
     },
     "metadata": {
      "needs_background": "light"
     },
     "output_type": "display_data"
    }
   ],
   "source": [
    "plt.figure(figsize=(10,5))\n",
    "sns.barplot(x='Department_Name', y=\"Count\", hue='Age',data=df_d).set(title='Department-wise Age-group contribution')\n",
    "plt.legend(title='Rating',bbox_to_anchor=(1.05, 0.8), loc='upper left', borderaxespad=0)"
   ]
  },
  {
   "cell_type": "markdown",
   "id": "cf2e174f",
   "metadata": {},
   "source": [
    "Across all departments adults and middle age have significant presence. Elderly and Youngster although much lower are almost at par"
   ]
  },
  {
   "cell_type": "code",
   "execution_count": 111,
   "id": "b6b57a28",
   "metadata": {},
   "outputs": [
    {
     "name": "stdout",
     "output_type": "stream",
     "text": [
      "        Class_Name        Recommend  Count  % Recommendation\n",
      "0          Blouses  Not Recommended    588         18.986116\n",
      "1          Blouses      Recommended   2509         81.013884\n",
      "2   Casual bottoms      Recommended      2        100.000000\n",
      "3         Chemises      Recommended      1        100.000000\n",
      "4          Dresses  Not Recommended   1212         19.180250\n",
      "5          Dresses      Recommended   5107         80.819750\n",
      "6       Fine gauge  Not Recommended    179         16.272727\n",
      "7       Fine gauge      Recommended    921         83.727273\n",
      "8        Intimates  Not Recommended     22         14.285714\n",
      "9        Intimates      Recommended    132         85.714286\n",
      "10         Jackets  Not Recommended    109         15.482955\n",
      "11         Jackets      Recommended    595         84.517045\n",
      "12           Jeans  Not Recommended    136         11.857018\n",
      "13           Jeans      Recommended   1011         88.142982\n",
      "14           Knits  Not Recommended    883         18.232501\n",
      "15           Knits      Recommended   3960         81.767499\n",
      "16        Layering  Not Recommended     17         11.643836\n",
      "17        Layering      Recommended    129         88.356164\n",
      "18         Legwear  Not Recommended     23         13.939394\n",
      "19         Legwear      Recommended    142         86.060606\n",
      "20          Lounge  Not Recommended     97         14.037627\n",
      "21          Lounge      Recommended    594         85.962373\n",
      "22       Outerwear  Not Recommended     60         18.292683\n",
      "23       Outerwear      Recommended    268         81.707317\n",
      "24           Pants  Not Recommended    232         16.714697\n",
      "25           Pants      Recommended   1156         83.285303\n",
      "26          Shorts  Not Recommended     51         16.088328\n",
      "27          Shorts      Recommended    266         83.911672\n",
      "28          Skirts  Not Recommended    146         15.449735\n",
      "29          Skirts      Recommended    799         84.550265\n",
      "30           Sleep  Not Recommended     33         14.473684\n",
      "31           Sleep      Recommended    195         85.526316\n",
      "32        Sweaters  Not Recommended    285         19.957983\n",
      "33        Sweaters      Recommended   1143         80.042017\n",
      "34            Swim  Not Recommended     68         19.428571\n",
      "35            Swim      Recommended    282         80.571429\n",
      "36           Trend  Not Recommended     31         26.050420\n",
      "37           Trend      Recommended     88         73.949580\n"
     ]
    },
    {
     "data": {
      "text/plain": [
       "<matplotlib.legend.Legend at 0x15d24c3f130>"
      ]
     },
     "execution_count": 111,
     "metadata": {},
     "output_type": "execute_result"
    },
    {
     "data": {
      "image/png": "[encoded data removed]",
      "text/plain": [
       "<Figure size 720x360 with 1 Axes>"
      ]
     },
     "metadata": {
      "needs_background": "light"
     },
     "output_type": "display_data"
    }
   ],
   "source": [
    "df_d=df1.groupby(['Class_Name','Recommend']).size().reset_index().rename(columns={0:'Count'})\n",
    "df_d['% Recommendation'] = df_d.apply(lambda row: row.Count / (df1.groupby(['Class_Name']).size()[row.Class_Name]) *100, axis=1)\n",
    "print(df_d)\n",
    "plt.figure(figsize=(10,5))\n",
    "sns.barplot(x='Class_Name', y=\"% Recommendation\", hue='Recommend',data=df_d).set(title='Class-wise Recommendation')\n",
    "plt.xticks(rotation=90)\n",
    "plt.legend(title='Recmmend',bbox_to_anchor=(1.05, 0.8), loc='upper left', borderaxespad=0)"
   ]
  },
  {
   "cell_type": "markdown",
   "id": "0c0be86a",
   "metadata": {},
   "source": [
    "Jeans is the class with highest % Recommendation where both kind of responses were recorded(Recommended/Not Recommended)"
   ]
  },
  {
   "cell_type": "code",
   "execution_count": 112,
   "id": "db51df5c",
   "metadata": {},
   "outputs": [
    {
     "name": "stdout",
     "output_type": "stream",
     "text": [
      "    index  Class_Name        Recommend  Count  % Recommendation\n",
      "0      36       Trend  Not Recommended     31         26.050420\n",
      "1      32    Sweaters  Not Recommended    285         19.957983\n",
      "2      34        Swim  Not Recommended     68         19.428571\n",
      "3       4     Dresses  Not Recommended   1212         19.180250\n",
      "4       0     Blouses  Not Recommended    588         18.986116\n",
      "5      22   Outerwear  Not Recommended     60         18.292683\n",
      "6      14       Knits  Not Recommended    883         18.232501\n",
      "7      24       Pants  Not Recommended    232         16.714697\n",
      "8       6  Fine gauge  Not Recommended    179         16.272727\n",
      "9      26      Shorts  Not Recommended     51         16.088328\n",
      "10     10     Jackets  Not Recommended    109         15.482955\n",
      "11     28      Skirts  Not Recommended    146         15.449735\n",
      "12     30       Sleep  Not Recommended     33         14.473684\n",
      "13      8   Intimates  Not Recommended     22         14.285714\n",
      "14     20      Lounge  Not Recommended     97         14.037627\n",
      "15     18     Legwear  Not Recommended     23         13.939394\n",
      "16     12       Jeans  Not Recommended    136         11.857018\n",
      "17     16    Layering  Not Recommended     17         11.643836\n"
     ]
    },
    {
     "data": {
      "text/plain": [
       "(array([ 0,  1,  2,  3,  4,  5,  6,  7,  8,  9, 10, 11, 12, 13, 14, 15, 16,\n",
       "        17]),\n",
       " [Text(0, 0, 'Trend'),\n",
       "  Text(1, 0, 'Sweaters'),\n",
       "  Text(2, 0, 'Swim'),\n",
       "  Text(3, 0, 'Dresses'),\n",
       "  Text(4, 0, 'Blouses'),\n",
       "  Text(5, 0, 'Outerwear'),\n",
       "  Text(6, 0, 'Knits'),\n",
       "  Text(7, 0, 'Pants'),\n",
       "  Text(8, 0, 'Fine gauge'),\n",
       "  Text(9, 0, 'Shorts'),\n",
       "  Text(10, 0, 'Jackets'),\n",
       "  Text(11, 0, 'Skirts'),\n",
       "  Text(12, 0, 'Sleep'),\n",
       "  Text(13, 0, 'Intimates'),\n",
       "  Text(14, 0, 'Lounge'),\n",
       "  Text(15, 0, 'Legwear'),\n",
       "  Text(16, 0, 'Jeans'),\n",
       "  Text(17, 0, 'Layering')])"
      ]
     },
     "execution_count": 112,
     "metadata": {},
     "output_type": "execute_result"
    },
    {
     "data": {
      "image/png": "[encoded data removed]",
      "text/plain": [
       "<Figure size 432x288 with 1 Axes>"
      ]
     },
     "metadata": {
      "needs_background": "light"
     },
     "output_type": "display_data"
    }
   ],
   "source": [
    "df_least_rec=df_d.sort_values(by=('% Recommendation'),ascending=False).loc[df_d['Recommend']=='Not Recommended'].reset_index()\n",
    "print(df_least_rec)\n",
    "sns.barplot(x='Class_Name', y=\"% Recommendation\",data=df_least_rec).set(title='Classes ordered as per least recommendation')\n",
    "plt.xticks(rotation=90)"
   ]
  },
  {
   "cell_type": "markdown",
   "id": "9cf90000",
   "metadata": {},
   "source": [
    "Among the classes of clothing the least recommended is Trend followed by Sweaters,Swim and Dresses"
   ]
  },
  {
   "cell_type": "markdown",
   "id": "8b08ae57",
   "metadata": {},
   "source": [
    "### Train Test Split"
   ]
  },
  {
   "cell_type": "code",
   "execution_count": 113,
   "id": "0865f5b6",
   "metadata": {},
   "outputs": [
    {
     "name": "stdout",
     "output_type": "stream",
     "text": [
      "Test data\n",
      " 1.0    5790\n",
      "0.0    1252\n",
      "Name: Recommend, dtype: int64\n",
      "Train data\n",
      " 1.0    13510\n",
      "0.0     2920\n",
      "Name: Recommend, dtype: int64\n"
     ]
    }
   ],
   "source": [
    "from sklearn.model_selection import train_test_split\n",
    "#Setting the features X\n",
    "X=df.drop(['Recommend'],axis=1)\n",
    "#Setting target y\n",
    "y=df['Recommend']\n",
    "X_train,X_test,y_train,y_test=train_test_split(X,y,random_state=42,test_size=.3,stratify = y) # 30% data is for testing\n",
    "\n",
    "#checking representation from target classes in test data and train data has equal \n",
    "print(\"Test data\\n\",y_test.value_counts())\n",
    "print(\"Train data\\n\",y_train.value_counts())"
   ]
  },
  {
   "cell_type": "markdown",
   "id": "b85913a4",
   "metadata": {},
   "source": [
    "### Modelling and tuning"
   ]
  },
  {
   "cell_type": "markdown",
   "id": "55fae4ff",
   "metadata": {},
   "source": [
    "### Decision Tree Model"
   ]
  },
  {
   "cell_type": "code",
   "execution_count": 114,
   "id": "f20e8aef",
   "metadata": {},
   "outputs": [
    {
     "name": "stdout",
     "output_type": "stream",
     "text": [
      "F1_score : 0.9552342797422052\n",
      "Accuracy score : 0.9270093723374041\n",
      "Confusion_matrix : [[1044  208]\n",
      " [ 306 5484]]\n"
     ]
    }
   ],
   "source": [
    "from sklearn.tree import DecisionTreeClassifier\n",
    "from sklearn.metrics import confusion_matrix, accuracy_score, precision_score, recall_score, f1_score\n",
    "model=DecisionTreeClassifier()\n",
    "model.fit(X_train,y_train)\n",
    "prediction=model.predict(X_test)\n",
    "print(\"F1_score :\",f1_score(y_test,prediction))\n",
    "print(\"Accuracy score :\",accuracy_score(y_test,prediction))\n",
    "print(\"Confusion_matrix :\",confusion_matrix(y_test,prediction))"
   ]
  },
  {
   "cell_type": "markdown",
   "id": "9ebd6fee",
   "metadata": {},
   "source": [
    "Decision tree model has f1 score of 95.5%"
   ]
  },
  {
   "cell_type": "markdown",
   "id": "f82e0449",
   "metadata": {},
   "source": [
    "#### Hyperparamter tuning on Decision tree based on Grid Search"
   ]
  },
  {
   "cell_type": "code",
   "execution_count": 115,
   "id": "7f658081",
   "metadata": {},
   "outputs": [
    {
     "name": "stdout",
     "output_type": "stream",
     "text": [
      "Fitting 4 folds for each of 240 candidates, totalling 960 fits\n",
      "F1_score : 0.9610020431731368\n",
      "Accuracy score : 0.9376597557512071\n",
      "Confusion_matrix : [[1194   58]\n",
      " [ 381 5409]]\n"
     ]
    }
   ],
   "source": [
    "from sklearn.model_selection import GridSearchCV\n",
    "dt = DecisionTreeClassifier(random_state=42)\n",
    "params = {\n",
    "    'max_depth': [2, 3, 5, 10, 15,20],\n",
    "    'min_samples_leaf': [5, 10, 20, 25,40],\n",
    "    'criterion': [\"gini\", \"entropy\"],\n",
    "    'max_features':[4,5,6,7]\n",
    "}\n",
    "# Instantiate the grid search model\n",
    "grid_search = GridSearchCV(estimator=dt,param_grid=params,cv=4, n_jobs=-1, verbose=1, scoring = \"accuracy\")\n",
    "grid_search.fit(X_train, y_train)\n",
    "dt_best = grid_search.best_estimator_\n",
    "prediction=dt_best.predict(X_test)\n",
    "print(\"F1_score :\",f1_score(y_test,prediction))\n",
    "print(\"Accuracy score :\",accuracy_score(y_test,prediction))\n",
    "print(\"Confusion_matrix :\",confusion_matrix(y_test,prediction))"
   ]
  },
  {
   "cell_type": "markdown",
   "id": "af256a10",
   "metadata": {},
   "source": [
    "After model tuning decision tree classification has f1 score of 96.1%"
   ]
  },
  {
   "cell_type": "markdown",
   "id": "2fcd6c05",
   "metadata": {},
   "source": [
    "### Random Forest Classifier"
   ]
  },
  {
   "cell_type": "code",
   "execution_count": 116,
   "id": "1e1bbe7e",
   "metadata": {},
   "outputs": [
    {
     "name": "stdout",
     "output_type": "stream",
     "text": [
      "Accuracy is: 0.927\n",
      "f1 score is: 0.93\n",
      "Confusion_matrix : [[1023  229]\n",
      " [ 285 5505]]\n"
     ]
    }
   ],
   "source": [
    "from sklearn.ensemble import RandomForestClassifier\n",
    "random_forest=RandomForestClassifier(random_state=42)\n",
    "random_forest.fit(X_train,y_train)\n",
    "y_pred=random_forest.predict(X_test)\n",
    "print(\"Accuracy is:\",round(accuracy_score(y_test,y_pred),3))\n",
    "print(\"f1 score is:\",round(f1_score(y_test,y_pred,average='micro'),2))\n",
    "print(\"Confusion_matrix :\",confusion_matrix(y_test,y_pred))"
   ]
  },
  {
   "cell_type": "markdown",
   "id": "59f6a103",
   "metadata": {},
   "source": [
    "Random Forest Classifier has f1 score of 93%"
   ]
  },
  {
   "cell_type": "markdown",
   "id": "fb79d0aa",
   "metadata": {},
   "source": [
    "#### Hyperparamter tuning on Random Forest Classifier"
   ]
  },
  {
   "cell_type": "code",
   "execution_count": 117,
   "id": "1dbd2a13",
   "metadata": {},
   "outputs": [
    {
     "name": "stdout",
     "output_type": "stream",
     "text": [
      "Accuracy is: 0.936\n",
      "f1 score is: 0.94\n",
      "Confusion_matrix : [[1144  108]\n",
      " [ 345 5445]]\n"
     ]
    }
   ],
   "source": [
    "random_forest=RandomForestClassifier(random_state=42,bootstrap= True,\n",
    " max_depth= 40,\n",
    " max_features= 6,\n",
    " min_samples_leaf= 25,\n",
    " n_estimators= 200)\n",
    "random_forest.fit(X_train,y_train)\n",
    "y_pred=random_forest.predict(X_test)\n",
    "print(\"Accuracy is:\",round(accuracy_score(y_test,y_pred),3))\n",
    "print(\"f1 score is:\",round(f1_score(y_test,y_pred,average='micro'),2))\n",
    "print(\"Confusion_matrix :\",confusion_matrix(y_test,y_pred))"
   ]
  },
  {
   "cell_type": "markdown",
   "id": "aca22f66",
   "metadata": {},
   "source": [
    "After tuning Random Forest Classifier has f1 score of 94%"
   ]
  },
  {
   "cell_type": "markdown",
   "id": "64496efd",
   "metadata": {},
   "source": [
    "### KNN Model"
   ]
  },
  {
   "cell_type": "code",
   "execution_count": 118,
   "id": "9d537c6b",
   "metadata": {},
   "outputs": [
    {
     "name": "stdout",
     "output_type": "stream",
     "text": [
      "[0.9268673672252201, 0.9291394490201648, 0.9288554387957967, 0.9298494745810849, 0.9261573416642999, 0.9260153365521159, 0.926299346776484, 0.9271513774495882, 0.9245952854302755, 0.9258733314399319, 0.9260153365521159, 0.9280034081226924]\n"
     ]
    },
    {
     "data": {
      "text/plain": [
       "Text(0, 0.5, 'accuracy')"
      ]
     },
     "execution_count": 118,
     "metadata": {},
     "output_type": "execute_result"
    },
    {
     "data": {
      "image/png": "[encoded data removed]",
      "text/plain": [
       "<Figure size 432x288 with 1 Axes>"
      ]
     },
     "metadata": {
      "needs_background": "light"
     },
     "output_type": "display_data"
    }
   ],
   "source": [
    "from sklearn.neighbors import KNeighborsClassifier\n",
    "acc_values=[]\n",
    "neighbors=np.arange(3,15)\n",
    "for k in neighbors:\n",
    "    classifier= KNeighborsClassifier(n_neighbors=k,metric='minkowski')\n",
    "    classifier.fit(X_train,y_train)\n",
    "    prediction=classifier.predict(X_test)\n",
    "    acc=accuracy_score(y_test,prediction)\n",
    "    acc_values.append(acc)  \n",
    "print(acc_values)\n",
    "plt.plot(neighbors,acc_values,'o-')\n",
    "plt.xlabel('k values')\n",
    "plt.ylabel('accuracy')"
   ]
  },
  {
   "cell_type": "markdown",
   "id": "dfff365e",
   "metadata": {},
   "source": [
    "We can see highest accuracy is at 6 .Therefore we can take k value as 6"
   ]
  },
  {
   "cell_type": "code",
   "execution_count": 119,
   "id": "7d47668c",
   "metadata": {},
   "outputs": [
    {
     "name": "stdout",
     "output_type": "stream",
     "text": [
      "F1_score : 0.9570807993049522\n",
      "Accuracy score : 0.9298494745810849\n",
      "Confusion_matrix : [[1040  212]\n",
      " [ 282 5508]]\n"
     ]
    }
   ],
   "source": [
    "classifier= KNeighborsClassifier(n_neighbors=6,metric='minkowski')\n",
    "classifier.fit(X_train,y_train)\n",
    "prediction=classifier.predict(X_test)\n",
    "print(\"F1_score :\",f1_score(y_test,prediction))\n",
    "print(\"Accuracy score :\",accuracy_score(y_test,prediction))\n",
    "print(\"Confusion_matrix :\",confusion_matrix(y_test,prediction))"
   ]
  },
  {
   "cell_type": "markdown",
   "id": "3cb1f8a1",
   "metadata": {},
   "source": [
    "KNN Model has an f1 score of 95.7%"
   ]
  },
  {
   "cell_type": "markdown",
   "id": "243583fd",
   "metadata": {},
   "source": [
    "### Logistic Regression Model"
   ]
  },
  {
   "cell_type": "code",
   "execution_count": 120,
   "id": "d5b5def2",
   "metadata": {},
   "outputs": [
    {
     "name": "stdout",
     "output_type": "stream",
     "text": [
      "Accuracy is: 0.931\n",
      "f1 score is: 0.931\n",
      "Confusion_matrix : [[1086  166]\n",
      " [ 321 5469]]\n"
     ]
    }
   ],
   "source": [
    "from sklearn.linear_model import LogisticRegression\n",
    "logit_model=LogisticRegression(random_state=42,multi_class='multinomial')\n",
    "logit_model.fit(X_train,y_train)\n",
    "y_pred=logit_model.predict(X_test)\n",
    "print(\"Accuracy is:\",round(accuracy_score(y_test,y_pred),3))\n",
    "print(\"f1 score is:\",round(f1_score(y_test,y_pred,average='micro'),3))\n",
    "print(\"Confusion_matrix :\",confusion_matrix(y_test,y_pred))"
   ]
  },
  {
   "cell_type": "markdown",
   "id": "6d58a8ad",
   "metadata": {},
   "source": [
    "Logistic regression model has f1 score of 93.1%"
   ]
  },
  {
   "cell_type": "markdown",
   "id": "1f3e885a",
   "metadata": {},
   "source": [
    "### SVM Classifier"
   ]
  },
  {
   "cell_type": "code",
   "execution_count": 121,
   "id": "a27a9d3a",
   "metadata": {},
   "outputs": [
    {
     "name": "stdout",
     "output_type": "stream",
     "text": [
      "Accuracy is: 0.935\n",
      "f1 score is: 0.935\n",
      "Confusion_matrix : [[1168   84]\n",
      " [ 372 5418]]\n"
     ]
    }
   ],
   "source": [
    "from sklearn.svm import SVC\n",
    "svm_model=SVC(random_state=42)\n",
    "svm_model.fit(X_train,y_train)\n",
    "y_pred=svm_model.predict(X_test)\n",
    "print(\"Accuracy is:\",round(accuracy_score(y_test,y_pred),3))\n",
    "print(\"f1 score is:\",round(f1_score(y_test,y_pred,average='micro'),3))\n",
    "print(\"Confusion_matrix :\",confusion_matrix(y_test,y_pred))"
   ]
  },
  {
   "cell_type": "markdown",
   "id": "96a5eaef",
   "metadata": {},
   "source": [
    "SVM classifier has f1_score of 93.5%"
   ]
  },
  {
   "cell_type": "markdown",
   "id": "1b773433",
   "metadata": {},
   "source": [
    "#### From the above models and their results we can conclude Decision Tree Classifier after hypertuning as the best model with an f1 score of 96% and accuracy of 93.7%"
   ]
  },
  {
   "cell_type": "code",
   "execution_count": null,
   "id": "58efc581",
   "metadata": {},
   "outputs": [],
   "source": []
  }
 ],
 "metadata": {
  "kernelspec": {
   "display_name": "Python 3 (ipykernel)",
   "language": "python",
   "name": "python3"
  },
  "language_info": {
   "codemirror_mode": {
    "name": "ipython",
    "version": 3
   },
   "file_extension": ".py",
   "mimetype": "text/x-python",
   "name": "python",
   "nbconvert_exporter": "python",
   "pygments_lexer": "ipython3",
   "version": "3.9.7"
  }
 },
 "nbformat": 4,
 "nbformat_minor": 5
}
